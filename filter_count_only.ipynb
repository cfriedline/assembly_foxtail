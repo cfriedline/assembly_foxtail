{
 "metadata": {
  "name": "",
  "signature": "sha256:5b3559b8116a2197c45b82d82ff1cb847937e7a914926d6aa0f70d2ab1e0c77d"
 },
 "nbformat": 3,
 "nbformat_minor": 0,
 "worksheets": [
  {
   "cells": [
    {
     "cell_type": "code",
     "collapsed": false,
     "input": [
      "file_dir = \"/home/cfriedline/eckertlab/bccl.csbc.vcu.edu/internal/Eckert/HiSeq_131001\"\n",
      "file_dir = \"/home/cfriedline/eckertlab/bccl.csbc.vcu.edu/internal/Eckert/HiSeq_130529/\""
     ],
     "language": "python",
     "metadata": {},
     "outputs": [],
     "prompt_number": ""
    },
    {
     "cell_type": "code",
     "collapsed": false,
     "input": [
      "import os\n",
      "gz_files = []\n",
      "for root, dirs, files in os.walk(file_dir):\n",
      "    for f in files:\n",
      "        if \".gz\" in f:\n",
      "            gz_files.append(os.path.join(root, f))"
     ],
     "language": "python",
     "metadata": {},
     "outputs": [],
     "prompt_number": ""
    },
    {
     "cell_type": "code",
     "collapsed": false,
     "input": [
      "gz_files"
     ],
     "language": "python",
     "metadata": {},
     "outputs": [],
     "prompt_number": ""
    },
    {
     "cell_type": "code",
     "collapsed": false,
     "input": [
      "from IPython.parallel import Client"
     ],
     "language": "python",
     "metadata": {},
     "outputs": [],
     "prompt_number": ""
    },
    {
     "cell_type": "code",
     "collapsed": false,
     "input": [
      "rc = Client(profile=\"sge\")\n",
      "print len(rc.ids)\n",
      "#pid map pid_map = rc[:].apply_async(os.getpid).get_dict()\u00e54"
     ],
     "language": "python",
     "metadata": {},
     "outputs": [],
     "prompt_number": ""
    },
    {
     "cell_type": "code",
     "collapsed": false,
     "input": [
      "dview = rc[:] #all nodes\n",
      "lview = rc.load_balanced_view() # for load balancing"
     ],
     "language": "python",
     "metadata": {},
     "outputs": [],
     "prompt_number": ""
    },
    {
     "cell_type": "code",
     "collapsed": false,
     "input": [
      "@dview.remote(block=True)\n",
      "def get_cpu_count():\n",
      "    import multiprocessing as mp\n",
      "    import socket\n",
      "    return socket.gethostname(), mp.cpu_count()\n",
      "cpu_counts = get_cpu_count()\n",
      "from collections import defaultdict\n",
      "cpu_dict = defaultdict(list)\n",
      "for i, c in enumerate(cpu_counts):\n",
      "    if c[1] >= 16:\n",
      "        cpu_dict[c[0]].append(i)  \n",
      "print cpu_dict\n",
      "cview = rc.load_balanced_view(targets=[v[0] for k, v in cpu_dict.items()])"
     ],
     "language": "python",
     "metadata": {},
     "outputs": [],
     "prompt_number": ""
    },
    {
     "cell_type": "code",
     "collapsed": false,
     "input": [
      "with dview.sync_imports():\n",
      "    import stopwatch\n",
      "    import numpy\n",
      "    import numpy as np\n",
      "    import scipy\n",
      "    import pandas\n",
      "    import gzip\n",
      "    import os\n",
      "    import tempfile\n",
      "    import shutil\n",
      "    import socket\n",
      "    from Bio.SeqIO.QualityIO import FastqGeneralIterator\n",
      "    from collections import deque, defaultdict\n",
      "    import multiprocessing \n",
      "    from multiprocessing import Pool, Manager\n",
      "    import traceback\n",
      "    from itertools import izip"
     ],
     "language": "python",
     "metadata": {},
     "outputs": [],
     "prompt_number": ""
    },
    {
     "cell_type": "code",
     "collapsed": false,
     "input": [
      "@lview.remote()\n",
      "def get_num_seqs(f):\n",
      "#     count = 0\n",
      "#     fastq = gzip.open(f)\n",
      "#     for title, seq, qual in FastqGeneralIterator(fastq):    \n",
      "#         count += 1\n",
      "    count = !zgrep -c . $f\n",
      "    return (f, int(count[0])/4)"
     ],
     "language": "python",
     "metadata": {},
     "outputs": [],
     "prompt_number": ""
    },
    {
     "cell_type": "code",
     "collapsed": false,
     "input": [
      "num_seq_jobs = []\n",
      "for f in gz_files:\n",
      "    num_seq_jobs.append(get_num_seqs(f))"
     ],
     "language": "python",
     "metadata": {},
     "outputs": [],
     "prompt_number": ""
    },
    {
     "cell_type": "code",
     "collapsed": false,
     "input": [
      "waiting = 0\n",
      "for j in num_seq_jobs:\n",
      "    if j.ready():\n",
      "        print j.r, j.elapsed\n",
      "    else:\n",
      "        print \"**WAITING**\", j.elapsed\n",
      "        waiting += 1\n",
      "print \"waiting: %d\" % waiting"
     ],
     "language": "python",
     "metadata": {},
     "outputs": [],
     "prompt_number": ""
    },
    {
     "cell_type": "markdown",
     "metadata": {},
     "source": [
      "##Read counts\n",
      "\n",
      "###Yellow\n",
      "('/home/cfriedline/eckertlab/bccl.csbc.vcu.edu/internal/Eckert/HiSeq_131001/lane7_Undetermined_L007_R1_001.fastq.gz', 181613017) \n",
      "\n",
      "###Green\n",
      "('/home/cfriedline/eckertlab/bccl.csbc.vcu.edu/internal/Eckert/HiSeq_131001/lane8_Undetermined_L008_R1_001.fastq.gz', 189302607) \n",
      "\n",
      "###Purple\n",
      "('/home/cfriedline/eckertlab/bccl.csbc.vcu.edu/internal/Eckert/HiSeq_130529/PurplePool/lane3_Undetermined_L003_read1.fastq.gz', 34532658)\n",
      "\n",
      "###Red+Purple+Green\n",
      "('/home/cfriedline/eckertlab/bccl.csbc.vcu.edu/internal/Eckert/HiSeq_130529/RPG/lane4_read1.fastq.gz', 131250110)\n",
      "\n",
      "###Blue\n",
      "('/home/cfriedline/eckertlab/bccl.csbc.vcu.edu/internal/Eckert/HiSeq_130529/Blue/lane6_Undetermined_L006_read1.fastq.gz', 173053059)"
     ]
    },
    {
     "cell_type": "code",
     "collapsed": false,
     "input": [
      "seq_nums = {'/home/cfriedline/eckertlab/bccl.csbc.vcu.edu/internal/Eckert/HiSeq_130529/Blue/lane6_Undetermined_L006_read1.fastq.gz':\n",
      "            eval(\"('/home/cfriedline/eckertlab/bccl.csbc.vcu.edu/internal/Eckert/HiSeq_130529/Blue/lane6_Undetermined_L006_read1.fastq.gz', 173053059, 'blue')\"),\n",
      "            \n",
      "            '/home/cfriedline/eckertlab/bccl.csbc.vcu.edu/internal/Eckert/HiSeq_130529/RPG/lane4_read1.fastq.gz':\n",
      "            eval(\"('/home/cfriedline/eckertlab/bccl.csbc.vcu.edu/internal/Eckert/HiSeq_130529/RPG/lane4_read1.fastq.gz', 131250110,'rpg')\"),\n",
      "            \n",
      "            '/home/cfriedline/eckertlab/bccl.csbc.vcu.edu/internal/Eckert/HiSeq_131001/lane8_Undetermined_L008_R1_001.fastq.gz':\n",
      "            eval(\"('/home/cfriedline/eckertlab/bccl.csbc.vcu.edu/internal/Eckert/HiSeq_131001/lane8_Undetermined_L008_R1_001.fastq.gz', 189302607,'green')\"),\n",
      "            \n",
      "            '/home/cfriedline/eckertlab/bccl.csbc.vcu.edu/internal/Eckert/HiSeq_131001/lane7_Undetermined_L007_R1_001.fastq.gz':\n",
      "            eval(\"('/home/cfriedline/eckertlab/bccl.csbc.vcu.edu/internal/Eckert/HiSeq_131001/lane7_Undetermined_L007_R1_001.fastq.gz', 181613017,'yellow')\")\n",
      "            }"
     ],
     "language": "python",
     "metadata": {},
     "outputs": [],
     "prompt_number": ""
    },
    {
     "cell_type": "code",
     "collapsed": false,
     "input": [
      "seq_nums"
     ],
     "language": "python",
     "metadata": {},
     "outputs": [],
     "prompt_number": ""
    },
    {
     "cell_type": "code",
     "collapsed": false,
     "input": [],
     "language": "python",
     "metadata": {},
     "outputs": []
    }
   ],
   "metadata": {}
  }
 ]
}