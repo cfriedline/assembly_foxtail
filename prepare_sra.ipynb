{
 "metadata": {
  "name": "",
  "signature": "sha256:51ae5169ddf972cc377d2481cc217007d2386c98717ead20a997c1fccfd9e049"
 },
 "nbformat": 3,
 "nbformat_minor": 0,
 "worksheets": [
  {
   "cells": [
    {
     "cell_type": "code",
     "collapsed": false,
     "input": [
      "import pandas as pd\n",
      "from Bio import SeqIO\n",
      "from Bio.SeqIO.QualityIO import FastqGeneralIterator\n",
      "import os\n",
      "from IPython.display import FileLink\n",
      "import hashlib\n",
      "import dill\n",
      "import zipfile\n",
      "import zlib"
     ],
     "language": "python",
     "metadata": {},
     "outputs": [],
     "prompt_number": ""
    },
    {
     "cell_type": "code",
     "collapsed": false,
     "input": [
      "template = \"/home/cfriedline/Plant.1.0.tsv\"\n",
      "template = pd.read_csv(template, sep=\"\\t\", header=10)\n",
      "sorted(template.columns)"
     ],
     "language": "python",
     "metadata": {},
     "outputs": [],
     "prompt_number": ""
    },
    {
     "cell_type": "code",
     "collapsed": false,
     "input": [
      "bioproject_id = \"PRJNA266319\"\n",
      "organism = 'Pinus balfouriana'\n",
      "cultivar = 'NA'\n",
      "biomaterial_provider = 'Patricia Maloney, Department of Plant Pathology, UC Davis, Davis, CA 95616'\n",
      "tissue = 'megagametophyte'\n"
     ],
     "language": "python",
     "metadata": {},
     "outputs": [],
     "prompt_number": ""
    },
    {
     "cell_type": "code",
     "collapsed": false,
     "input": [
      "file_dir = \"/home/cfriedline/data7/eckertlab/foxtail/individuals_all\""
     ],
     "language": "python",
     "metadata": {},
     "outputs": [],
     "prompt_number": ""
    },
    {
     "cell_type": "code",
     "collapsed": false,
     "input": [
      "bam_files = !ls {file_dir} | grep 'sorted.bam$'\n",
      "bam_files = [os.path.join(file_dir, x) for x in bam_files]"
     ],
     "language": "python",
     "metadata": {},
     "outputs": [],
     "prompt_number": ""
    },
    {
     "cell_type": "code",
     "collapsed": false,
     "input": [
      "bam_files"
     ],
     "language": "python",
     "metadata": {},
     "outputs": [],
     "prompt_number": ""
    },
    {
     "cell_type": "code",
     "collapsed": false,
     "input": [
      "fastq_dirs = ['/home/cfriedline/data7/HiSeq_131001',\n",
      "              '/home/cfriedline/data7/eckertlab/bccl.csbc.vcu.edu/internal/Eckert/HiSeq_130529']\n",
      "fastq_files = []"
     ],
     "language": "python",
     "metadata": {},
     "outputs": [],
     "prompt_number": ""
    },
    {
     "cell_type": "code",
     "collapsed": false,
     "input": [
      "for d in fastq_dirs:\n",
      "    print d\n",
      "    for root, dirs, files in os.walk(d):\n",
      "        for f in files:\n",
      "            if f.endswith(\"fastq\"):\n",
      "                for b in bam_files:\n",
      "                    if f in b:\n",
      "                        print os.path.join(root, f)\n",
      "                        fastq_files.append(os.path.join(root, f))"
     ],
     "language": "python",
     "metadata": {},
     "outputs": [],
     "prompt_number": ""
    },
    {
     "cell_type": "code",
     "collapsed": false,
     "input": [
      "data = []\n",
      "for b in bam_files:\n",
      "    b = os.path.basename(b).split(\"_\")\n",
      "    sample_id = \"_\".join(b[0:2])\n",
      "    sample_name = \"P_balf_lm_%s\" % sample_id\n",
      "    data.append({'*sample_name':sample_name,\n",
      "                 'bioproject_id':bioproject_id,\n",
      "                 '*biomaterial_provider':biomaterial_provider,\n",
      "                 '*cultivar':cultivar,\n",
      "                 '*tissue':tissue,\n",
      "                 '*organism':organism,\n",
      "                 'isolation_source':sample_name})"
     ],
     "language": "python",
     "metadata": {},
     "outputs": [],
     "prompt_number": ""
    },
    {
     "cell_type": "code",
     "collapsed": false,
     "input": [
      "df = pd.DataFrame(data, columns=template.columns)"
     ],
     "language": "python",
     "metadata": {},
     "outputs": [],
     "prompt_number": ""
    },
    {
     "cell_type": "code",
     "collapsed": false,
     "input": [
      "df[0:5]"
     ],
     "language": "python",
     "metadata": {},
     "outputs": [],
     "prompt_number": ""
    },
    {
     "cell_type": "code",
     "collapsed": false,
     "input": [
      "df.to_csv(\"biosamples.txt\", sep=\"\\t\", index=False)\n",
      "FileLink(\"biosamples.txt\")"
     ],
     "language": "python",
     "metadata": {},
     "outputs": [],
     "prompt_number": ""
    },
    {
     "cell_type": "markdown",
     "metadata": {},
     "source": [
      "## New biosample organization"
     ]
    },
    {
     "cell_type": "code",
     "collapsed": false,
     "input": [
      "data2 = []\n",
      "for pop, loc in {\"Red\":\"Sierra Nevada\", \n",
      "                 \"Green\":\"Sierra Nevada\", \n",
      "                 \"Yellow\":\"Klamath\",\n",
      "                 \"Blue\":\"Klamath\"}.items():\n",
      "    sample_name = \"P_balf_lm_%s\" % pop\n",
      "    data2.append({'*sample_name':sample_name,\n",
      "                 'bioproject_id':bioproject_id,\n",
      "                 '*biomaterial_provider':biomaterial_provider,\n",
      "                 '*cultivar':cultivar,\n",
      "                 '*tissue':tissue,\n",
      "                 '*organism':organism,\n",
      "                 'isolation_source': sample_name,\n",
      "                 'geo_loc_name':'USA: %s' % loc,\n",
      "                 'age': 'not applicable',\n",
      "                 'dev_stage': 'not applicable'})\n",
      "data2"
     ],
     "language": "python",
     "metadata": {},
     "outputs": [],
     "prompt_number": ""
    },
    {
     "cell_type": "code",
     "collapsed": false,
     "input": [
      "df2 = pd.DataFrame(data2, columns=template.columns)\n",
      "df2"
     ],
     "language": "python",
     "metadata": {},
     "outputs": [],
     "prompt_number": ""
    },
    {
     "cell_type": "code",
     "collapsed": false,
     "input": [
      "df2.to_csv(\"biosamples2.txt\", sep=\"\\t\", index=False)\n",
      "FileLink(\"biosamples2.txt\")"
     ],
     "language": "python",
     "metadata": {},
     "outputs": [],
     "prompt_number": ""
    },
    {
     "cell_type": "code",
     "collapsed": false,
     "input": [
      "sra_template = pd.read_excel(\"SRA_subtemplate_v2-7.xlsx\", \"SRA_data\")\n",
      "sra_cols = [u'bioproject_accession', \n",
      "            u'biosample_accession', \n",
      "            u'sample_name', \n",
      "            u'library_ID', \n",
      "            u'title/short description', \n",
      "            u'library_strategy (click for details)', \n",
      "            u'library_source (click for details)', \n",
      "            u'library_selection (click for details)', \n",
      "            u'library_layout', \n",
      "            u'platform (click for details)', \n",
      "            u'instrument_model', \n",
      "            u'design_description', \n",
      "            u'reference_genome_assembly (or accession)', \n",
      "            u'alignment_software', \n",
      "            u'forward_read_length', \n",
      "            u'reverse_read_length', \n",
      "            u'filetype', \n",
      "            u'filename', \n",
      "            u'MD5_checksum', \n",
      "            u'filetype.1', \n",
      "            u'filename.1', \n",
      "            u'MD5_checksum.1']"
     ],
     "language": "python",
     "metadata": {},
     "outputs": [],
     "prompt_number": ""
    },
    {
     "cell_type": "code",
     "collapsed": false,
     "input": [
      "md5sums = {}\n",
      "for i, f in enumerate(fastq_files):\n",
      "    at = i + 1\n",
      "    res = !md5sum $f\n",
      "    md5 = res[0].split()[0]\n",
      "    print \"%d/%d: %s %s \" % (at, len(fastq_files), f, md5)\n",
      "    md5sums[f] = md5"
     ],
     "language": "python",
     "metadata": {},
     "outputs": [],
     "prompt_number": ""
    },
    {
     "cell_type": "code",
     "collapsed": false,
     "input": [
      "dill.dump(md5sums, open(\"md5sums.pkl\", \"w\"))"
     ],
     "language": "python",
     "metadata": {},
     "outputs": [],
     "prompt_number": ""
    },
    {
     "cell_type": "code",
     "collapsed": false,
     "input": [
      "biosamples = pd.read_csv(\"BioSampleObjects.txt\", sep=\"\\t\")\n",
      "biosamples"
     ],
     "language": "python",
     "metadata": {},
     "outputs": [],
     "prompt_number": ""
    },
    {
     "cell_type": "code",
     "collapsed": false,
     "input": [
      "biosamples['color'] = biosamples.apply(lambda x: x['Sample Name'].split(\"_\")[-1], axis=1)"
     ],
     "language": "python",
     "metadata": {},
     "outputs": [],
     "prompt_number": ""
    },
    {
     "cell_type": "code",
     "collapsed": false,
     "input": [
      "biosamples"
     ],
     "language": "python",
     "metadata": {},
     "outputs": [],
     "prompt_number": ""
    },
    {
     "cell_type": "code",
     "collapsed": false,
     "input": [
      "sra_rows = []\n",
      "for f in fastq_files:\n",
      "    base = os.path.basename(f)\n",
      "    color = base.split(\"_\")[0]\n",
      "    row = biosamples[biosamples.color == color]\n",
      "    biosample_id = row.Accession.values[0]\n",
      "    sample_name = \"_\".join(base.split(\"_\")[0:2])\n",
      "    sra_rows.append([bioproject_id, \n",
      "           biosample_id, \n",
      "           sample_name, \n",
      "           sample_name, \n",
      "           sample_name, \n",
      "           \"WGS\", \n",
      "           \"GENOMIC\", \n",
      "           \"Reduced Representation\",\n",
      "           \"single\",\n",
      "           \"ILLUMINA\",\n",
      "           \"Illumina HiSeq 2500\",\n",
      "           \"\",\n",
      "           \"\",\n",
      "           \"\",\n",
      "           131,\n",
      "           \"\",\n",
      "           \"fastq\",\n",
      "           base,\n",
      "           md5sums[f]])"
     ],
     "language": "python",
     "metadata": {},
     "outputs": [],
     "prompt_number": ""
    },
    {
     "cell_type": "code",
     "collapsed": false,
     "input": [
      "pd.DataFrame(sra_rows)"
     ],
     "language": "python",
     "metadata": {},
     "outputs": [],
     "prompt_number": ""
    },
    {
     "cell_type": "code",
     "collapsed": false,
     "input": [
      "def zip_fastq_files():\n",
      "    !zip -D sra_files.zip {\" \".join(fastq_files)}"
     ],
     "language": "python",
     "metadata": {},
     "outputs": [],
     "prompt_number": ""
    },
    {
     "cell_type": "code",
     "collapsed": false,
     "input": [
      "%connect_info"
     ],
     "language": "python",
     "metadata": {},
     "outputs": [],
     "prompt_number": ""
    },
    {
     "cell_type": "code",
     "collapsed": false,
     "input": [],
     "language": "python",
     "metadata": {},
     "outputs": []
    }
   ],
   "metadata": {}
  }
 ]
}