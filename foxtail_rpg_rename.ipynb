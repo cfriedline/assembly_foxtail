{
 "metadata": {
  "name": "",
  "signature": "sha256:573d09620a73efa59af0454d53ba3cc7c0f3667fa27415b00966b3c006ad9bc5"
 },
 "nbformat": 3,
 "nbformat_minor": 0,
 "worksheets": [
  {
   "cells": [
    {
     "cell_type": "code",
     "collapsed": false,
     "input": [
      "root_dir = \"/home/cfriedline/eckertlab/bccl.csbc.vcu.edu/internal/Eckert/HiSeq_130529/RPG\""
     ],
     "language": "python",
     "metadata": {},
     "outputs": [],
     "prompt_number": ""
    },
    {
     "cell_type": "code",
     "collapsed": false,
     "input": [
      "import os, shutil"
     ],
     "language": "python",
     "metadata": {},
     "outputs": [],
     "prompt_number": ""
    },
    {
     "cell_type": "code",
     "collapsed": false,
     "input": [
      "dest_dir = os.path.join(root_dir, \"renamed\")\n",
      "if not os.path.exists(dest_dir):\n",
      "    os.mkdir(dest_dir)"
     ],
     "language": "python",
     "metadata": {},
     "outputs": [],
     "prompt_number": ""
    },
    {
     "cell_type": "code",
     "collapsed": false,
     "input": [
      "fastq_files = !ls *.fastq $root_dir "
     ],
     "language": "python",
     "metadata": {},
     "outputs": [],
     "prompt_number": ""
    },
    {
     "cell_type": "code",
     "collapsed": false,
     "input": [
      "fastq_files = [os.path.join(root_dir, x) for x in fastq_files if \"Green\" in x or  \"Red\" in x]"
     ],
     "language": "python",
     "metadata": {},
     "outputs": [],
     "prompt_number": ""
    },
    {
     "cell_type": "code",
     "collapsed": false,
     "input": [
      "for f in fastq_files:\n",
      "    base_new = \"\"\n",
      "    base = os.path.basename(f)\n",
      "    if \"Green\" in base:\n",
      "        base_new = base.replace(\"Green\", \"Red\")\n",
      "        if \"448\" in base_new:\n",
      "            base_new = base_new.replace(\"448\", \"48\")        \n",
      "        if \"_3_\" and \"GGCGCCGAA\" in base_new:\n",
      "            base_new = base_new.replace(\"_3_\", \"_13_\")            \n",
      "    elif \"Red\" in base:\n",
      "        base_new = base.replace(\"Red\", \"Green\")\n",
      "    path_new = os.path.join(dest_dir, base_new)\n",
      "    print path_new\n",
      "    assert not os.path.exists(path_new)\n",
      "    shutil.copyfile(f, path_new)"
     ],
     "language": "python",
     "metadata": {},
     "outputs": [],
     "prompt_number": ""
    }
   ],
   "metadata": {}
  }
 ]
}