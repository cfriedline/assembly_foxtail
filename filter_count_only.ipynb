{
 "metadata": {
  "name": "",
  "signature": "sha256:0bee19996466b6c83f6fa4cf4d999c9e0f8d1109432502021306f295131485db"
 },
 "nbformat": 3,
 "nbformat_minor": 0,
 "worksheets": [
  {
   "cells": [
    {
     "cell_type": "markdown",
     "metadata": {},
     "source": [
      "#Get the raw numbers for each library\n",
      "\n",
      "This notebook will get the raw counts for each library since these were not generated during the filtering step (filtering was done w/o demultiplexing first)."
     ]
    },
    {
     "cell_type": "code",
     "collapsed": false,
     "input": [
      "file_dir = \"/home/cfriedline/eckertlab/bccl.csbc.vcu.edu/internal/Eckert/HiSeq_131001\"\n",
      "file_dir = \"/home/cfriedline/eckertlab/bccl.csbc.vcu.edu/internal/Eckert/HiSeq_130529/\""
     ],
     "language": "python",
     "metadata": {},
     "outputs": [],
     "prompt_number": ""
    },
    {
     "cell_type": "code",
     "collapsed": false,
     "input": [
      "import os\n",
      "gz_files = []\n",
      "for root, dirs, files in os.walk(file_dir):\n",
      "    for f in files:\n",
      "        if \".gz\" in f:\n",
      "            gz_files.append(os.path.join(root, f))"
     ],
     "language": "python",
     "metadata": {},
     "outputs": [],
     "prompt_number": ""
    },
    {
     "cell_type": "code",
     "collapsed": false,
     "input": [
      "gz_files"
     ],
     "language": "python",
     "metadata": {},
     "outputs": [],
     "prompt_number": ""
    },
    {
     "cell_type": "code",
     "collapsed": false,
     "input": [
      "from IPython.parallel import Client"
     ],
     "language": "python",
     "metadata": {},
     "outputs": [],
     "prompt_number": ""
    },
    {
     "cell_type": "code",
     "collapsed": false,
     "input": [
      "rc = Client(profile=\"sge\")\n",
      "print len(rc.ids)\n",
      "#pid map pid_map = rc[:].apply_async(os.getpid).get_dict()\u00e54"
     ],
     "language": "python",
     "metadata": {},
     "outputs": [],
     "prompt_number": ""
    },
    {
     "cell_type": "code",
     "collapsed": false,
     "input": [
      "dview = rc[:] #all nodes\n",
      "lview = rc.load_balanced_view() # for load balancing"
     ],
     "language": "python",
     "metadata": {},
     "outputs": [],
     "prompt_number": ""
    },
    {
     "cell_type": "code",
     "collapsed": false,
     "input": [
      "@dview.remote(block=True)\n",
      "def get_cpu_count():\n",
      "    import multiprocessing as mp\n",
      "    import socket\n",
      "    return socket.gethostname(), mp.cpu_count()\n",
      "cpu_counts = get_cpu_count()\n",
      "from collections import defaultdict\n",
      "cpu_dict = defaultdict(list)\n",
      "for i, c in enumerate(cpu_counts):\n",
      "    if c[1] >= 16:\n",
      "        cpu_dict[c[0]].append(i)  \n",
      "print cpu_dict\n",
      "cview = rc.load_balanced_view(targets=[v[0] for k, v in cpu_dict.items()])"
     ],
     "language": "python",
     "metadata": {},
     "outputs": [],
     "prompt_number": ""
    },
    {
     "cell_type": "code",
     "collapsed": false,
     "input": [
      "with dview.sync_imports():\n",
      "    import stopwatch\n",
      "    import numpy\n",
      "    import numpy as np\n",
      "    import scipy\n",
      "    import pandas\n",
      "    import gzip\n",
      "    import os\n",
      "    import tempfile\n",
      "    import shutil\n",
      "    import socket\n",
      "    from Bio.SeqIO.QualityIO import FastqGeneralIterator\n",
      "    from collections import deque, defaultdict\n",
      "    import multiprocessing \n",
      "    from multiprocessing import Pool, Manager\n",
      "    import traceback\n",
      "    from itertools import izip"
     ],
     "language": "python",
     "metadata": {},
     "outputs": [],
     "prompt_number": ""
    },
    {
     "cell_type": "code",
     "collapsed": false,
     "input": [
      "@lview.remote()\n",
      "def get_num_seqs(f):\n",
      "#     count = 0\n",
      "#     fastq = gzip.open(f)\n",
      "#     for title, seq, qual in FastqGeneralIterator(fastq):    \n",
      "#         count += 1\n",
      "    count = !zgrep -c . $f\n",
      "    return (f, int(count[0])/4)"
     ],
     "language": "python",
     "metadata": {},
     "outputs": [],
     "prompt_number": ""
    },
    {
     "cell_type": "code",
     "collapsed": false,
     "input": [
      "num_seq_jobs = []\n",
      "for f in gz_files:\n",
      "    num_seq_jobs.append(get_num_seqs(f))"
     ],
     "language": "python",
     "metadata": {},
     "outputs": [],
     "prompt_number": ""
    },
    {
     "cell_type": "code",
     "collapsed": false,
     "input": [
      "waiting = 0\n",
      "for j in num_seq_jobs:\n",
      "    if j.ready():\n",
      "        print j.r, j.elapsed\n",
      "    else:\n",
      "        print \"**WAITING**\", j.elapsed\n",
      "        waiting += 1\n",
      "print \"waiting: %d\" % waiting"
     ],
     "language": "python",
     "metadata": {},
     "outputs": [],
     "prompt_number": ""
    },
    {
     "cell_type": "markdown",
     "metadata": {},
     "source": [
      "##Read counts\n",
      "\n",
      "###Yellow\n",
      "('/home/cfriedline/eckertlab/bccl.csbc.vcu.edu/internal/Eckert/HiSeq_131001/lane7_Undetermined_L007_R1_001.fastq.gz', 181613017) \n",
      "\n",
      "###Green\n",
      "('/home/cfriedline/eckertlab/bccl.csbc.vcu.edu/internal/Eckert/HiSeq_131001/lane8_Undetermined_L008_R1_001.fastq.gz', 189302607) \n",
      "\n",
      "###Purple\n",
      "('/home/cfriedline/eckertlab/bccl.csbc.vcu.edu/internal/Eckert/HiSeq_130529/PurplePool/lane3_Undetermined_L003_read1.fastq.gz', 34532658)\n",
      "\n",
      "###Red+Purple+Green\n",
      "('/home/cfriedline/eckertlab/bccl.csbc.vcu.edu/internal/Eckert/HiSeq_130529/RPG/lane4_read1.fastq.gz', 131250110)\n",
      "\n",
      "###Blue\n",
      "('/home/cfriedline/eckertlab/bccl.csbc.vcu.edu/internal/Eckert/HiSeq_130529/Blue/lane6_Undetermined_L006_read1.fastq.gz', 173053059)"
     ]
    },
    {
     "cell_type": "markdown",
     "metadata": {},
     "source": [
      "##Now that we have all of the counts, build a static structure and work from it"
     ]
    },
    {
     "cell_type": "code",
     "collapsed": false,
     "input": [
      "seq_nums = {'/home/cfriedline/eckertlab/bccl.csbc.vcu.edu/internal/Eckert/HiSeq_130529/Blue/lane6_Undetermined_L006_read1.fastq.gz':\n",
      "            {'count':173053059, \n",
      "             \"color\":'blue',\n",
      "             'bc_file':'/home/cfriedline/eckertlab/bccl.csbc.vcu.edu/internal/Eckert/HiSeq_130529/Blue/barcodes'},\n",
      "            \n",
      "            '/home/cfriedline/eckertlab/bccl.csbc.vcu.edu/internal/Eckert/HiSeq_130529/RPG/lane4_read1.fastq.gz':\n",
      "            {\"count\":131250110,\n",
      "             \"color\":'rpg',\n",
      "             'bc_file':'/home/cfriedline/eckertlab/bccl.csbc.vcu.edu/internal/Eckert/HiSeq_130529/RPG/barcodes'},\n",
      "            \n",
      "            '/home/cfriedline/eckertlab/bccl.csbc.vcu.edu/internal/Eckert/HiSeq_131001/lane8_Undetermined_L008_R1_001.fastq.gz':\n",
      "            {\"count\":189302607,\n",
      "             \"color\":'green',\n",
      "             'bc_file':'/home/cfriedline/data7/HiSeq_131001/Green/barcodes'},\n",
      "            \n",
      "            '/home/cfriedline/eckertlab/bccl.csbc.vcu.edu/internal/Eckert/HiSeq_131001/lane7_Undetermined_L007_R1_001.fastq.gz':\n",
      "            {\"count\":181613017,\n",
      "             \"color\":'yellow',\n",
      "             'bc_file':'/home/cfriedline/data7/HiSeq_131001/Yellow/barcodes'}\n",
      "            }"
     ],
     "language": "python",
     "metadata": {},
     "outputs": [],
     "prompt_number": ""
    },
    {
     "cell_type": "markdown",
     "metadata": {},
     "source": [
      "##Get the barocodes for each"
     ]
    },
    {
     "cell_type": "code",
     "collapsed": false,
     "input": [
      "for fastq, data in seq_nums.items():\n",
      "    bc = data['bc_file']\n",
      "    assert os.path.exists(bc)\n",
      "    data['bc']=get_barcodes(bc)"
     ],
     "language": "python",
     "metadata": {},
     "outputs": [],
     "prompt_number": ""
    },
    {
     "cell_type": "code",
     "collapsed": false,
     "input": [
      "@lview.remote()\n",
      "def get_barcodes(f):\n",
      "    bcs = defaultdict()\n",
      "    bc_lens = set()\n",
      "    h = open(f)\n",
      "    h.readline()\n",
      "    for line in h:\n",
      "        line = line.strip()\n",
      "        data = line.split(\"\\t\")\n",
      "        if len(data) > 1: #skip blank lines\n",
      "            if \",\" in data[0]:\n",
      "                data[0] = data[0].replace(\" \", \"\").replace(\",\", \"-\")\n",
      "            bc = data[4].upper().replace(\"CTCTTTCCCTACACGACGCTCTTCCGATCT\", \"\")[:-1]\n",
      "            bc_lens.add(len(bc))\n",
      "            bcs[bc] = data[1] + \"_\" + data[0]        \n",
      "    return bcs, bc_lens    "
     ],
     "language": "python",
     "metadata": {},
     "outputs": [],
     "prompt_number": ""
    },
    {
     "cell_type": "code",
     "collapsed": false,
     "input": [
      "@lview.remote()\n",
      "def demult_count(f, barcodes, barcode_lens):\n",
      "    print f\n",
      "    hostname = socket.gethostname()\n",
      "    timer = stopwatch.Timer()\n",
      "    count = 0\n",
      "    missing_barcode = 0\n",
      "    found = {}\n",
      "    h = open(f)\n",
      "    if f.endswith(\"gz\"):\n",
      "        h.close()\n",
      "        h = gzip.open(f)\n",
      "    for title, seq, qual in FastqGeneralIterator(h):\n",
      "        barcoded = False\n",
      "        for l in barcode_lens: \n",
      "            bc = seq[0:l]\n",
      "            if bc in barcodes:\n",
      "                if not bc in found:\n",
      "                    found[bc] = 1\n",
      "                else:\n",
      "                    found[bc] += 1\n",
      "                barcoded = True\n",
      "                break\n",
      "        if not barcoded:\n",
      "            missing_barcode += 1\n",
      "        \n",
      "        count += 1\n",
      "            \n",
      "        if count % 1000000 == 0:\n",
      "            print hostname, f, count\n",
      "            \n",
      "    return hostname, found, count, missing_barcode"
     ],
     "language": "python",
     "metadata": {},
     "outputs": [],
     "prompt_number": ""
    },
    {
     "cell_type": "code",
     "collapsed": false,
     "input": [
      "barcode_counts = {}\n",
      "for fastq, data in seq_nums.items():\n",
      "    barcodes, barcode_lens = data['bc'].get()\n",
      "    r = demult_count(fastq, barcodes, barcode_lens)\n",
      "    barcode_counts[fastq] = r"
     ],
     "language": "python",
     "metadata": {},
     "outputs": [],
     "prompt_number": ""
    },
    {
     "cell_type": "code",
     "collapsed": false,
     "input": [
      "for fastq, c in barcode_counts.items():\n",
      "    print fastq\n",
      "    try:\n",
      "        stdout = c.stdout.split(\"\\n\")\n",
      "        at = float(stdout[-2].split()[-1])\n",
      "        perc = at*100/seq_nums[fastq]['count']\n",
      "        print int(at), numpy.round(perc,2)\n",
      "    except:    \n",
      "        pass\n",
      "    \n",
      "    if c.ready():\n",
      "        print c.r"
     ],
     "language": "python",
     "metadata": {},
     "outputs": [],
     "prompt_number": ""
    },
    {
     "cell_type": "code",
     "collapsed": false,
     "input": [
      "for fastq, data in seq_nums.items():\n",
      "    print fastq, data['count']"
     ],
     "language": "python",
     "metadata": {},
     "outputs": [],
     "prompt_number": ""
    }
   ],
   "metadata": {}
  }
 ]
}