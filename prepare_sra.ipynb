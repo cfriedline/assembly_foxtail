{
 "metadata": {
  "name": "",
  "signature": "sha256:c7630302656ee1a3216c2ae6f430b3f0a27c17a3dc5786f98d7d36c72fc0b3a7"
 },
 "nbformat": 3,
 "nbformat_minor": 0,
 "worksheets": [
  {
   "cells": [
    {
     "cell_type": "code",
     "collapsed": false,
     "input": [
      "import pandas as pd\n",
      "from Bio import SeqIO\n",
      "from Bio.SeqIO.QualityIO import FastqGeneralIterator\n",
      "import os\n",
      "from IPython.display import FileLink"
     ],
     "language": "python",
     "metadata": {},
     "outputs": [],
     "prompt_number": ""
    },
    {
     "cell_type": "code",
     "collapsed": false,
     "input": [],
     "language": "python",
     "metadata": {},
     "outputs": []
    },
    {
     "cell_type": "code",
     "collapsed": false,
     "input": [
      "template = \"/home/cfriedline/Plant.1.0.tsv\"\n",
      "template = pd.read_csv(template, sep=\"\\t\", header=10)\n",
      "template.columns"
     ],
     "language": "python",
     "metadata": {},
     "outputs": [],
     "prompt_number": ""
    },
    {
     "cell_type": "code",
     "collapsed": false,
     "input": [
      "bioproject_id = \"PRJNA266319\"\n",
      "organism = 'Pinus balfouriana'\n",
      "cultivar = 'NA'\n",
      "biomaterial_provider = 'Patricia Maloney, Department of Plant Pathology, UC Davis, Davis, CA 95616'\n",
      "tissue = 'seed'\n"
     ],
     "language": "python",
     "metadata": {},
     "outputs": [],
     "prompt_number": ""
    },
    {
     "cell_type": "code",
     "collapsed": false,
     "input": [
      "file_dir = \"/home/cfriedline/data7/eckertlab/foxtail/individuals_all\""
     ],
     "language": "python",
     "metadata": {},
     "outputs": [],
     "prompt_number": ""
    },
    {
     "cell_type": "code",
     "collapsed": false,
     "input": [
      "bam_files = !ls {file_dir} | grep 'sorted.bam$'\n",
      "bam_files = [os.path.join(file_dir, x) for x in bam_files]"
     ],
     "language": "python",
     "metadata": {},
     "outputs": [],
     "prompt_number": ""
    },
    {
     "cell_type": "code",
     "collapsed": false,
     "input": [
      "data = []\n",
      "for b in bam_files:\n",
      "    b = os.path.basename(b).split(\"_\")\n",
      "    sample_id = \"_\".join(b[0:2])\n",
      "    sample_name = \"P_balf_lm_%s\" % sample_id\n",
      "    data.append({'*sample_name':sample_name,\n",
      "                 'bioproject_id':bioproject_id,\n",
      "                 '*biomaterial_provider':biomaterial_provider,\n",
      "                 '*cultivar':cultivar,\n",
      "                 '*tissue':tissue,\n",
      "                 '*organism':organism,\n",
      "                 'isolation_source':sample_name})"
     ],
     "language": "python",
     "metadata": {},
     "outputs": [],
     "prompt_number": ""
    },
    {
     "cell_type": "code",
     "collapsed": false,
     "input": [
      "df = pd.DataFrame(data, columns=template.columns)"
     ],
     "language": "python",
     "metadata": {},
     "outputs": [],
     "prompt_number": ""
    },
    {
     "cell_type": "code",
     "collapsed": false,
     "input": [
      "df[0:5]"
     ],
     "language": "python",
     "metadata": {},
     "outputs": [],
     "prompt_number": ""
    },
    {
     "cell_type": "code",
     "collapsed": false,
     "input": [
      "print len(df), len(df.drop_duplicates())"
     ],
     "language": "python",
     "metadata": {},
     "outputs": [],
     "prompt_number": ""
    },
    {
     "cell_type": "code",
     "collapsed": false,
     "input": [
      "df.to_csv(\"biosamples.txt\", sep=\"\\t\", index=False)"
     ],
     "language": "python",
     "metadata": {},
     "outputs": [],
     "prompt_number": ""
    },
    {
     "cell_type": "code",
     "collapsed": false,
     "input": [
      "!head -n3 biosamples.txt"
     ],
     "language": "python",
     "metadata": {},
     "outputs": [],
     "prompt_number": ""
    },
    {
     "cell_type": "code",
     "collapsed": false,
     "input": [
      "FileLink(\"biosamples.txt\")"
     ],
     "language": "python",
     "metadata": {},
     "outputs": [],
     "prompt_number": ""
    },
    {
     "cell_type": "code",
     "collapsed": false,
     "input": [
      "for b in bam_files:\n",
      "    print b\n",
      "    res = !/home/cfriedline/data7/src/bedtools2/bin/bamToFastq -i {b} -fq {\"%s.fastq\" % b}\n",
      "    print res\n",
      "    break"
     ],
     "language": "python",
     "metadata": {},
     "outputs": [],
     "prompt_number": ""
    },
    {
     "cell_type": "code",
     "collapsed": false,
     "input": [],
     "language": "python",
     "metadata": {},
     "outputs": []
    }
   ],
   "metadata": {}
  }
 ]
}