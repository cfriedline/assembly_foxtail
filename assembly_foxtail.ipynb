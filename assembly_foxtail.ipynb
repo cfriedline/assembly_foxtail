{
 "metadata": {
  "name": ""
 },
 "nbformat": 3,
 "nbformat_minor": 0,
 "worksheets": [
  {
   "cells": [
    {
     "cell_type": "code",
     "collapsed": false,
     "input": [
      "import os\n",
      "from IPython.display import FileLink, FileLinks\n",
      "from IPython.parallel import Client\n",
      "%matplotlib"
     ],
     "language": "python",
     "metadata": {},
     "outputs": [],
     "prompt_number": null
    },
    {
     "cell_type": "code",
     "collapsed": false,
     "input": [
      "rc = Client(profile=\"sge\")\n",
      "dview = rc[:]\n",
      "lview = rc.load_balanced_view()\n",
      "print len(dview)"
     ],
     "language": "python",
     "metadata": {},
     "outputs": [],
     "prompt_number": null
    },
    {
     "cell_type": "code",
     "collapsed": false,
     "input": [
      "with dview.sync_imports():\n",
      "    import os\n",
      "    import sys\n",
      "    import socket\n",
      "    from collections import defaultdict\n",
      "    import stopwatch\n",
      "    import multiprocessing\n",
      "    import re\n",
      "    import numpy\n",
      "    import pandas\n",
      "    import scipy\n",
      "    import scipy.stats\n",
      "    import itertools\n",
      "    import shutil"
     ],
     "language": "python",
     "metadata": {},
     "outputs": [],
     "prompt_number": null
    },
    {
     "cell_type": "code",
     "collapsed": false,
     "input": [
      "dirname = \"/data7/cfriedline/assemblies/foxtail\"\n",
      "os.chdir(dirname)\n",
      "res = dview.apply(os.chdir, dirname)"
     ],
     "language": "python",
     "metadata": {},
     "outputs": [],
     "prompt_number": null
    },
    {
     "cell_type": "code",
     "collapsed": false,
     "input": [
      "@dview.remote(block=True)\n",
      "def set_velvet_path():\n",
      "    os.environ['PATH'] = \"/data7/cfriedline/src/velvet\" + os.pathsep + os.environ['PATH']\n",
      "res = set_velvet_path()"
     ],
     "language": "python",
     "metadata": {},
     "outputs": [],
     "prompt_number": null
    },
    {
     "cell_type": "code",
     "collapsed": false,
     "input": [
      "def create_script(f):\n",
      "    script = open(\"qsub_%s.sh\" % f, \"w\")\n",
      "    with script as o:\n",
      "        o.write(\"\"\"#!/bin/bash\n",
      "#$ -cwd\n",
      "#$ -j yes\n",
      "#$ -V\n",
      "#$ -N %s\n",
      "#$ -pe jgl_ompi 16\n",
      "mpirun /home/cfriedline/bin/ABYSS-P -k20 %s -o %s -v\n",
      "\"\"\" % (f[:8], f, \"%s_contigs.fa\" % f))\n",
      "    return script.name\n",
      "        \n",
      "                "
     ],
     "language": "python",
     "metadata": {},
     "outputs": [],
     "prompt_number": null
    },
    {
     "cell_type": "code",
     "collapsed": false,
     "input": [
      "def create_pe_script(f):\n",
      "    k = 64\n",
      "    script = open(\"qsub_%s.sh\" % f, \"w\")\n",
      "    with script as o:\n",
      "        o.write(\"\"\"#!/bin/bash\n",
      "#$ -cwd\n",
      "#$ -j yes\n",
      "#$ -V\n",
      "#$ -N %s\n",
      "#$ -pe jgl_ompi 16\n",
      "$HOME/bin/abyss-pe k=%d se='%s' -C %s\n",
      "\"\"\" % (f[:8],k,os.path.abspath(f),os.path.join(os.path.dirname(os.path.abspath(f)),\"k%d\" % k)))\n",
      "    return script.name"
     ],
     "language": "python",
     "metadata": {},
     "outputs": [],
     "prompt_number": null
    },
    {
     "cell_type": "code",
     "collapsed": false,
     "input": [
      "files = !ls *.fastq"
     ],
     "language": "python",
     "metadata": {},
     "outputs": [],
     "prompt_number": null
    },
    {
     "cell_type": "code",
     "collapsed": false,
     "input": [
      "files"
     ],
     "language": "python",
     "metadata": {},
     "outputs": [],
     "prompt_number": null
    },
    {
     "cell_type": "code",
     "collapsed": false,
     "input": [
      "scripts = []\n",
      "for f in files:\n",
      "    scripts.append(create_pe_script(f))\n",
      "for s in scripts:\n",
      "    !chmod +x $s"
     ],
     "language": "python",
     "metadata": {},
     "outputs": [],
     "prompt_number": null
    },
    {
     "cell_type": "code",
     "collapsed": false,
     "input": [
      "@dview.remote(block=True)\n",
      "def get_hostname():\n",
      "    return socket.gethostname()"
     ],
     "language": "python",
     "metadata": {},
     "outputs": [],
     "prompt_number": null
    },
    {
     "cell_type": "code",
     "collapsed": false,
     "input": [
      "hostnames = get_hostname()"
     ],
     "language": "python",
     "metadata": {},
     "outputs": [],
     "prompt_number": null
    },
    {
     "cell_type": "code",
     "collapsed": false,
     "input": [
      "unique_hosts = defaultdict(list)\n",
      "for i, h in enumerate(hostnames):\n",
      "    unique_hosts[h].append(i)\n",
      "uview = [v[0] for k, v in unique_hosts.items()]\n",
      "luview = rc.load_balanced_view(targets=uview)\n",
      "duview = rc[uview]\n",
      "print len(uview)\n"
     ],
     "language": "python",
     "metadata": {},
     "outputs": [],
     "prompt_number": null
    },
    {
     "cell_type": "code",
     "collapsed": false,
     "input": [
      "def get_clean_stdout(s):\n",
      "    return [x.strip() for x in s.split(\"\\n\")]"
     ],
     "language": "python",
     "metadata": {},
     "outputs": [],
     "prompt_number": null
    },
    {
     "cell_type": "markdown",
     "metadata": {},
     "source": [
      "#Run VelvetOptimiser"
     ]
    },
    {
     "cell_type": "code",
     "collapsed": false,
     "input": [
      "def run_velvetoptimiser(args):\n",
      "    print socket.gethostname(), args\n",
      "    timer = stopwatch.Timer()\n",
      "    f, k = args\n",
      "    dirname = os.path.dirname(f)\n",
      "    k_dir = os.path.join(dirname, \"%s_%d\" % (os.path.basename(f), k))\n",
      "    prefix = os.path.basename(k_dir)\n",
      "    out_dir = \"%s_data_%d\" % (prefix, k)\n",
      "    cmd = \"/home/cfriedline/src/VelvetOptimiser-2.2.5/VelvetOptimiser.pl --c tbp --s=%d --e=%d --x=0 --p %s --f '-fastq -short %s'\" % (k, k, prefix, f)\n",
      "    os.chdir(dirname)\n",
      "    !$cmd\n",
      "    timer.stop()\n",
      "    return os.path.abspath(out_dir), timer.elapsed\n",
      "dview['run_velvetoptimiser'] = run_velvetoptimiser\n",
      "#run_velvetoptimiser((os.path.abspath(files[0]), 31))"
     ],
     "language": "python",
     "metadata": {},
     "outputs": [],
     "prompt_number": null
    },
    {
     "cell_type": "code",
     "collapsed": false,
     "input": [
      "# rerrun green 19\n",
      "green_tasks = []\n",
      "for f in files:\n",
      "    for k in k_list:\n",
      "        if \"Green\" in f and k == 19:\n",
      "            green_tasks.append((os.path.abspath(f), k))\n",
      "green_tasks = lview.map_async(run_velvetoptimiser, green_tasks)"
     ],
     "language": "python",
     "metadata": {},
     "outputs": [],
     "prompt_number": null
    },
    {
     "cell_type": "code",
     "collapsed": false,
     "input": [
      "print green_tasks.metadata[0].stdout.split(\"\\n\")[-2]"
     ],
     "language": "python",
     "metadata": {},
     "outputs": [],
     "prompt_number": null
    },
    {
     "cell_type": "code",
     "collapsed": false,
     "input": [
      "k_list = xrange(19,65,2)\n",
      "tasks = []\n",
      "for f in files:\n",
      "    for k in k_list:\n",
      "        tasks.append((os.path.abspath(f), k))\n",
      "        #velvetoptimiser_results.append(lview.apply_async(run_velvetoptimiser, (os.path.abspath(f), k)))\n",
      "velvetoptimiser_results = lview.map_async(run_velvetoptimiser, tasks)"
     ],
     "language": "python",
     "metadata": {},
     "outputs": [],
     "prompt_number": null
    },
    {
     "cell_type": "code",
     "collapsed": false,
     "input": [
      "for r in velvetoptimiser_results.metadata:\n",
      "    stdout = [x.strip() for x in r.stdout.split(\"\\n\")]\n",
      "    stderr = [x.strip() for x in r.stderr.split(\"\\n\")]\n",
      "    if len(stdout) > 1:\n",
      "#         print stdout[0]\n",
      "        if not r.completed:\n",
      "            print stdout[0].split()[0], stdout[-2]\n",
      "        else:\n",
      "            print stdout[0], r.completed - r.started"
     ],
     "language": "python",
     "metadata": {},
     "outputs": [],
     "prompt_number": null
    },
    {
     "cell_type": "code",
     "collapsed": false,
     "input": [
      "print \"%d/%d\" % (velvetoptimiser_results.progress, len(velvetoptimiser_results))"
     ],
     "language": "python",
     "metadata": {},
     "outputs": [],
     "prompt_number": null
    },
    {
     "cell_type": "markdown",
     "metadata": {},
     "source": [
      "#Run velveth"
     ]
    },
    {
     "cell_type": "code",
     "collapsed": false,
     "input": [
      "def run_velveth(args):\n",
      "    timer = stopwatch.Timer()\n",
      "    f, k = args\n",
      "    dirname = os.path.dirname(f)\n",
      "    k_dir = os.path.join(dirname, \"%s_%d\" % (os.path.basename(f), k))\n",
      "    !/data7/cfriedline/src/velvet/velveth $k_dir $k -fastq -short $f\n",
      "    timer.stop()\n",
      "    return k_dir, timer.elapsed\n",
      "dview['run_velveth'] = run_velveth"
     ],
     "language": "python",
     "metadata": {},
     "outputs": [],
     "prompt_number": null
    },
    {
     "cell_type": "code",
     "collapsed": false,
     "input": [
      "k_list = xrange(31,65,2)\n",
      "velveth_results = []\n",
      "for f in files:\n",
      "    for k in k_list:\n",
      "        velveth_results.append(lview.apply_async(run_velveth, (os.path.abspath(f), k)))"
     ],
     "language": "python",
     "metadata": {},
     "outputs": [],
     "prompt_number": null
    },
    {
     "cell_type": "code",
     "collapsed": false,
     "input": [
      "done = 0\n",
      "for r in velveth_results:\n",
      "    if not r.ready():\n",
      "        print \"*RUNNING*\", r.metadata.stdout.split(\"\\r\")[-2]\n",
      "    else:\n",
      "        done += 1\n",
      "        print \"*DONE\", r.r\n",
      "print done, \"/\", len(velveth_results)"
     ],
     "language": "python",
     "metadata": {},
     "outputs": [],
     "prompt_number": null
    },
    {
     "cell_type": "markdown",
     "metadata": {},
     "source": [
      "#Run velvetg\n"
     ]
    },
    {
     "cell_type": "code",
     "collapsed": false,
     "input": [
      "def run_velvetg(args):\n",
      "    timer = stopwatch.Timer()\n",
      "    k_dir = args\n",
      "    !/data7/cfriedline/src/velvet/velvetg $k_dir -exp_cov auto\n",
      "    timer.stop()\n",
      "    return k_dir, timer.elapsed \n",
      "dview['run_velvetg'] = run_velvetg"
     ],
     "language": "python",
     "metadata": {},
     "outputs": [],
     "prompt_number": null
    },
    {
     "cell_type": "code",
     "collapsed": false,
     "input": [
      "velvetg_results = []\n",
      "for r in velveth_results:\n",
      "    velvetg_results.append(luview.apply_async(run_velvetg, r.r[0]))"
     ],
     "language": "python",
     "metadata": {},
     "outputs": [],
     "prompt_number": null
    },
    {
     "cell_type": "code",
     "collapsed": false,
     "input": [
      "done = 0\n",
      "for r in velvetg_results:\n",
      "    if not r.ready():\n",
      "        stdout = r.metadata.stdout.split(\"\\n\")\n",
      "        print len(stdout)\n",
      "        if len(stdout) > 1:\n",
      "            print stdout[0]\n",
      "    else:\n",
      "        done +=1\n",
      "print done, \"/\", len(velvetg_results)"
     ],
     "language": "python",
     "metadata": {},
     "outputs": [],
     "prompt_number": null
    },
    {
     "cell_type": "markdown",
     "metadata": {},
     "source": [
      "#Build bowtie2 indexes"
     ]
    },
    {
     "cell_type": "code",
     "collapsed": false,
     "input": [
      "def bowtie2_build(args):\n",
      "    timer = stopwatch.Timer()\n",
      "    velvet_dir = args\n",
      "    name = os.path.basename(velvet_dir)\n",
      "    contigs = os.path.join(velvet_dir, 'contigs.fa')\n",
      "    if os.path.exists(contigs):\n",
      "        !/data7/cfriedline/src/bowtie2-2.1.0/bowtie2-build -f $contigs $velvet_dir\n",
      "        timer.stop()\n",
      "        return velvet_dir, timer.elapsed\n",
      "    return None\n",
      "dview['bowtie2_build'] = bowtie2_build"
     ],
     "language": "python",
     "metadata": {},
     "outputs": [],
     "prompt_number": null
    },
    {
     "cell_type": "code",
     "collapsed": false,
     "input": [
      "[x[0] for x in velvetoptimiser_results.r]"
     ],
     "language": "python",
     "metadata": {},
     "outputs": [],
     "prompt_number": null
    },
    {
     "cell_type": "code",
     "collapsed": false,
     "input": [
      "bowtie_build_tasks = []\n",
      "for r in velvetoptimiser_results.r:\n",
      "    bowtie_build_tasks.append(r[0])\n",
      "bowtie_build_results = lview.map_async(bowtie2_build, bowtie_build_tasks)"
     ],
     "language": "python",
     "metadata": {},
     "outputs": [],
     "prompt_number": null
    },
    {
     "cell_type": "code",
     "collapsed": false,
     "input": [
      "done = 0\n",
      "for m in bowtie_build_results.metadata:\n",
      "    stdout = [x.strip() for x in m.stdout.split(\"\\n\")]\n",
      "    if m.completed:\n",
      "        done += 1\n",
      "print(done)\n",
      "bowtie_build_results.ready()"
     ],
     "language": "python",
     "metadata": {},
     "outputs": [],
     "prompt_number": null
    },
    {
     "cell_type": "code",
     "collapsed": false,
     "input": [
      "max([r[1] for r in bowtie_build_results.r])"
     ],
     "language": "python",
     "metadata": {},
     "outputs": [],
     "prompt_number": null
    },
    {
     "cell_type": "code",
     "collapsed": false,
     "input": [
      "[r for r in bowtie_build_results.r]"
     ],
     "language": "python",
     "metadata": {},
     "outputs": [],
     "prompt_number": null
    },
    {
     "cell_type": "markdown",
     "metadata": {},
     "source": [
      "#Run bowtie2"
     ]
    },
    {
     "cell_type": "code",
     "collapsed": false,
     "input": [
      "def run_bowtie2(args):\n",
      "    timer = stopwatch.Timer()\n",
      "    cpus = multiprocessing.cpu_count()\n",
      "    prefix, reads = args\n",
      "    sam = \"%s.sam\" % prefix\n",
      "    !/home/cfriedline/data7/src/bowtie2-2.1.0/bowtie2 --local --very-sensitive-local -p $cpus -x $prefix -U $reads -S $sam\n",
      "    timer.stop()\n",
      "    return prefix, sam, timer.elapsed\n",
      "dview['run_bowtie2'] = run_bowtie2   "
     ],
     "language": "python",
     "metadata": {},
     "outputs": [],
     "prompt_number": null
    },
    {
     "cell_type": "code",
     "collapsed": false,
     "input": [
      "contig_files = !find . | grep contigs.fa | grep _data_"
     ],
     "language": "python",
     "metadata": {},
     "outputs": [],
     "prompt_number": null
    },
    {
     "cell_type": "code",
     "collapsed": false,
     "input": [
      "contig_dirs = [(os.path.dirname(os.path.abspath(x)),0) for x in contig_files]"
     ],
     "language": "python",
     "metadata": {},
     "outputs": [],
     "prompt_number": null
    },
    {
     "cell_type": "code",
     "collapsed": false,
     "input": [
      "bowtie_tasks = []\n",
      "#for r in bowtie_build_results.r:\n",
      "#run this if you don't have bowtie build results, using contig files from aboove\n",
      "for r in contig_dirs:     \n",
      "    prefix = r[0]\n",
      "    reads = \"_\".join(prefix.split(\"_\")[0:3])\n",
      "    bowtie_tasks.append((prefix, reads))\n",
      "bowtie_results = lview.map_async(run_bowtie2, bowtie_tasks)"
     ],
     "language": "python",
     "metadata": {},
     "outputs": [],
     "prompt_number": null
    },
    {
     "cell_type": "code",
     "collapsed": false,
     "input": [
      "bowtie_tasks"
     ],
     "language": "python",
     "metadata": {},
     "outputs": [],
     "prompt_number": null
    },
    {
     "cell_type": "code",
     "collapsed": false,
     "input": [
      "print bowtie_results.ready(), bowtie_results.progress, len(bowtie_results)\n",
      "assembly_map_data = defaultdict(defaultdict)\n",
      "for i, r in enumerate(bowtie_results.metadata):\n",
      "    stdout = get_clean_stdout(r.stdout)\n",
      "    if len(stdout) > 1 and not \"Error\" in stdout[1]:\n",
      "        if bowtie_results.ready():\n",
      "            bowtie_results.r[i]\n",
      "            for s in stdout:\n",
      "    #             print s\n",
      "                m = re.search(r'(^\\d*\\.\\d*).*overall', s)\n",
      "                if m:\n",
      "                    percent_mapped = m.group(1)\n",
      "                    name_data = os.path.basename(bowtie_results.r[i][0]).split(\"_\")\n",
      "                    assembly_map_data[\"_\".join(name_data[0:2])][float(name_data[-1])] = float(percent_mapped)"
     ],
     "language": "python",
     "metadata": {},
     "outputs": [],
     "prompt_number": null
    },
    {
     "cell_type": "code",
     "collapsed": false,
     "input": [
      "import matplotlib.pyplot as plt\n",
      "from IPython.display import Image\n",
      "plt.figure(figsize=(10,8))\n",
      "legend = []\n",
      "for name, v_dict in assembly_map_data.items():\n",
      "    legend.append(name)\n",
      "    if \"Blue\" in name:\n",
      "        col = \"b\"\n",
      "    elif \"Red\" in name:\n",
      "        col = 'r'\n",
      "    elif \"Green\" in name:\n",
      "        col = 'g'\n",
      "    else:\n",
      "        col = 'purple'\n",
      "    x = []\n",
      "    y = []\n",
      "    for k, perc in v_dict.items():\n",
      "        x.append(k)\n",
      "        y.append(perc)\n",
      "    plt.scatter(x, y, label=name, c=col, s=100, alpha=0.5)\n",
      "plt.legend()\n",
      "plt.xlabel(\"k\")\n",
      "plt.ylabel(\"Percent mapped\")\n",
      "plt.xticks(xrange(10, 70, 2))\n",
      "plt.yticks(xrange(0, 100, 10))\n",
      "plt.axis('tight')\n",
      "plt.grid(True)\n",
      "plt.show()"
     ],
     "language": "python",
     "metadata": {},
     "outputs": [],
     "prompt_number": null
    },
    {
     "cell_type": "code",
     "collapsed": false,
     "input": [
      "for i, r in enumerate(bowtie_results.r):\n",
      "    d = r[0]\n",
      "    from Bio import SeqIO\n",
      "    contigs = os.path.join(d, \"contigs.fa\")\n",
      "    count = 0\n",
      "    for rec in SeqIO.parse(open(contigs), \"fasta\"):\n",
      "        count +=1\n",
      "    print count, \"contigs in\", contigs\n",
      "    !tail -n1 $d/Log\n",
      "    print\"---\""
     ],
     "language": "python",
     "metadata": {},
     "outputs": [],
     "prompt_number": null
    },
    {
     "cell_type": "markdown",
     "metadata": {},
     "source": [
      "#Run kmergenie"
     ]
    },
    {
     "cell_type": "code",
     "collapsed": false,
     "input": [
      "def run_kmergenie(args):\n",
      "    timer = stopwatch.Timer()\n",
      "    f = args\n",
      "    !/data7/cfriedline/src/kmergenie-1.5636/kmergenie $f -o $f\n",
      "    timer.stop()\n",
      "    return f, timer.elapsed\n",
      "dview['run_kmergenie'] = run_kmergenie"
     ],
     "language": "python",
     "metadata": {},
     "outputs": [],
     "prompt_number": null
    },
    {
     "cell_type": "code",
     "collapsed": false,
     "input": [
      "kmergenie_results = lview.map_async(run_kmergenie, files)    "
     ],
     "language": "python",
     "metadata": {},
     "outputs": [],
     "prompt_number": null
    },
    {
     "cell_type": "code",
     "collapsed": false,
     "input": [
      "[x.stdout for x in kmergenie_results.metadata]"
     ],
     "language": "python",
     "metadata": {},
     "outputs": [],
     "prompt_number": null
    },
    {
     "cell_type": "code",
     "collapsed": false,
     "input": [
      "kmergenie_results.ready()"
     ],
     "language": "python",
     "metadata": {},
     "outputs": [],
     "prompt_number": null
    },
    {
     "cell_type": "markdown",
     "metadata": {},
     "source": [
      "#Run LAP"
     ]
    },
    {
     "cell_type": "code",
     "collapsed": false,
     "input": [
      "def run_lap(args):\n",
      "    timer = stopwatch.Timer()\n",
      "    assembly, reads = args\n",
      "    lap_file = \"%s.lap\" % os.path.join(os.path.dirname(assembly))\n",
      "    num_cpu = multiprocessing.cpu_count()\n",
      "    os.environ['BT2_HOME'] = '/data7/cfriedline/src/bowtie2-2.1.0/'\n",
      "    !cat $reads | /data7/cfriedline/src/lap_release_1/dynamic/mprobability -a $assembly -f fastq -p $num_cpu > $lap_file\n",
      "    timer.stop()\n",
      "    return lap_file, timer.elapsed\n",
      "dview['run_lap'] = run_lap"
     ],
     "language": "python",
     "metadata": {},
     "outputs": [],
     "prompt_number": null
    },
    {
     "cell_type": "code",
     "collapsed": false,
     "input": [
      "lap_tasks = []\n",
      "for a in velvetoptimiser_results.r:\n",
      "    assembly = os.path.join(a[0], 'contigs.fa')\n",
      "    reads = \"_\".join(assembly.split('_')[0:3])\n",
      "    lap_tasks.append((assembly, reads))\n",
      "lap_results = lview.map_async(run_lap, lap_tasks)\n"
     ],
     "language": "python",
     "metadata": {},
     "outputs": [],
     "prompt_number": null
    },
    {
     "cell_type": "code",
     "collapsed": false,
     "input": [
      "lap_results.ready()"
     ],
     "language": "python",
     "metadata": {},
     "outputs": [],
     "prompt_number": null
    },
    {
     "cell_type": "code",
     "collapsed": false,
     "input": [
      "cd /data7/cfriedline/assemblies/foxtail"
     ],
     "language": "python",
     "metadata": {},
     "outputs": [],
     "prompt_number": null
    },
    {
     "cell_type": "code",
     "collapsed": false,
     "input": [
      "lap_files = !ls *.lap"
     ],
     "language": "python",
     "metadata": {},
     "outputs": [],
     "prompt_number": null
    },
    {
     "cell_type": "code",
     "collapsed": false,
     "input": [
      "test_lap = os.path.abspath(lap_files[0])"
     ],
     "language": "python",
     "metadata": {},
     "outputs": [],
     "prompt_number": null
    },
    {
     "cell_type": "code",
     "collapsed": false,
     "input": [
      "test_lap"
     ],
     "language": "python",
     "metadata": {},
     "outputs": [],
     "prompt_number": null
    },
    {
     "cell_type": "code",
     "collapsed": false,
     "input": [
      "from collections import defaultdict\n",
      "lap_scores = defaultdict()\n",
      "for f in lap_files:\n",
      "    name = f.split(\"_\")[0]\n",
      "    if not name in lap_scores:\n",
      "        lap_scores[name] = {'max_l':-1000, 'max_f':None}\n",
      "    mean = !cat {os.path.abspath(f)} | /data7/cfriedline/src/lap_release_1/dynamic/mean -t \"1e-30\"\n",
      "    mean = [float(x) for x in mean[0].split(\"\\t\")]\n",
      "    print f, mean\n",
      "    if mean[0] > lap_scores[name]['max_l'] and mean[0] < 0:\n",
      "        lap_scores[name]['max_l'] = mean[0]\n",
      "        lap_scores[name]['max_f'] = f\n",
      "print lap_scores"
     ],
     "language": "python",
     "metadata": {},
     "outputs": [],
     "prompt_number": null
    },
    {
     "cell_type": "code",
     "collapsed": false,
     "input": [
      "for k, v in lap_scores.items():\n",
      "    print k, v\n",
      "    for x, y in v.items():\n",
      "        print \"%s = %s\" % (x, str(y))"
     ],
     "language": "python",
     "metadata": {},
     "outputs": [],
     "prompt_number": null
    },
    {
     "cell_type": "code",
     "collapsed": false,
     "input": [
      "for k, v in lap_scores.items():\n",
      "    max_f = os.path.abspath(v['max_f'])\n",
      "    contigs = os.path.join(max_f.replace(\".lap\", \"\"), 'contigs.fa')\n",
      "    assert os.path.exists(contigs)\n",
      "    "
     ],
     "language": "python",
     "metadata": {},
     "outputs": [],
     "prompt_number": null
    },
    {
     "cell_type": "markdown",
     "metadata": {},
     "source": [
      "#Map individuals to best assembly"
     ]
    },
    {
     "cell_type": "code",
     "collapsed": false,
     "input": [
      "print lap_scores.keys()\n",
      "print(lap_scores)\n",
      "#fastq_individuals = !find /home/cfriedline/eckertlab/bccl.csbc.vcu.edu/internal/Eckert -type f | grep .fastq$\n",
      "#just purple\n",
      "fastq_individuals = !find /home/cfriedline/eckertlab/bccl.csbc.vcu.edu/internal/Eckert -type f | grep .fastq$ \n",
      "fastq_individuals = sorted([x for x in fastq_individuals if \"Red_\" in x or \"Blue_\" in x or \"Green_\" in x or \"Purple_\" in x])\n",
      "fastq_individuals"
     ],
     "language": "python",
     "metadata": {},
     "outputs": [],
     "prompt_number": null
    },
    {
     "cell_type": "code",
     "collapsed": false,
     "input": [
      "os.path.abspath(lap_scores['Blue']['max_f'])"
     ],
     "language": "python",
     "metadata": {},
     "outputs": [],
     "prompt_number": null
    },
    {
     "cell_type": "code",
     "collapsed": false,
     "input": [
      "fastq_individuals_with_assemblies = []\n",
      "for x in fastq_individuals:\n",
      "    color = os.path.basename(x).split(\"_\")[0]\n",
      "    if color in lap_scores.keys():\n",
      "        fastq_individuals_with_assemblies.append({'reads': x, 'sam':os.path.abspath(lap_scores[color]['max_f'].replace(\".lap\", \"\"))})\n",
      "fastq_individuals_with_assemblies"
     ],
     "language": "python",
     "metadata": {},
     "outputs": [],
     "prompt_number": null
    },
    {
     "cell_type": "markdown",
     "metadata": {},
     "source": [
      "#Run bowtie on individuals to call SNPs"
     ]
    },
    {
     "cell_type": "code",
     "collapsed": false,
     "input": [
      "def run_bowtie2_individuals(args):\n",
      "    timer = stopwatch.Timer()\n",
      "    cpus = multiprocessing.cpu_count()\n",
      "    prefix, reads = args\n",
      "    parent = os.path.dirname(prefix)\n",
      "    individuals_dir = os.path.join(parent, \"individuals\")\n",
      "    if not os.path.exists(individuals_dir):\n",
      "        os.mkdir(individuals_dir)\n",
      "    sam = os.path.join(individuals_dir, \"%s.sam\" % os.path.basename(reads))\n",
      "    print \"/home/cfriedline/data7/src/bowtie2-2.1.0/bowtie2 --local --very-sensitive-local -p %d -x %s -U %s -S %s\" % (cpus, prefix, reads, sam)\n",
      "    !/home/cfriedline/data7/src/bowtie2-2.1.0/bowtie2 --local --very-sensitive-local -p $cpus -x $prefix -U $reads -S $sam\n",
      "    timer.stop()\n",
      "    return prefix, sam, timer.elapsed\n",
      "dview['run_bowtie2_individuals'] = run_bowtie2_individuals"
     ],
     "language": "python",
     "metadata": {},
     "outputs": [],
     "prompt_number": null
    },
    {
     "cell_type": "code",
     "collapsed": false,
     "input": [
      "bowtie_indviduals_tasks = []\n",
      "for x in fastq_individuals_with_assemblies:\n",
      "    bowtie_indviduals_tasks.append((x['sam'], x['reads']))"
     ],
     "language": "python",
     "metadata": {},
     "outputs": [],
     "prompt_number": null
    },
    {
     "cell_type": "code",
     "collapsed": false,
     "input": [
      "bowtie_indviduals_tasks"
     ],
     "language": "python",
     "metadata": {},
     "outputs": [],
     "prompt_number": null
    },
    {
     "cell_type": "code",
     "collapsed": false,
     "input": [
      "bowtie_indviduals_tasks_results = lview.map_async(run_bowtie2_individuals, bowtie_indviduals_tasks)"
     ],
     "language": "python",
     "metadata": {},
     "outputs": [],
     "prompt_number": null
    },
    {
     "cell_type": "code",
     "collapsed": false,
     "input": [
      "print bowtie_indviduals_tasks_results.progress, bowtie_indviduals_tasks_results.ready()"
     ],
     "language": "python",
     "metadata": {},
     "outputs": [],
     "prompt_number": null
    },
    {
     "cell_type": "code",
     "collapsed": false,
     "input": [
      "bowtie_indviduals_tasks_results.r"
     ],
     "language": "python",
     "metadata": {},
     "outputs": [],
     "prompt_number": null
    },
    {
     "cell_type": "markdown",
     "metadata": {},
     "source": [
      "#Call SNPs"
     ]
    },
    {
     "cell_type": "code",
     "collapsed": false,
     "input": [
      "def convert_sam_to_bam(sam):\n",
      "    timer = stopwatch.Timer()\n",
      "    cpus = multiprocessing.cpu_count()\n",
      "    bam = sam.replace(\".sam\", \".bam\")\n",
      "    bam_sorted = \"%s_sorted.bam\" % bam.replace(\".bam\", \"\")\n",
      "    bam_index = bam_sorted.replace(\".bam\", \".bai\")\n",
      "    !/home/cfriedline/data7/src/samtools-0.1.19/samtools view -bS $sam > $bam\n",
      "    !/home/cfriedline/data7/src/samtools-0.1.19/samtools sort -@ $cpus -f $bam $bam_sorted\n",
      "    !/home/cfriedline/data7/src/samtools-0.1.19/samtools index $bam_sorted $bam_index\n",
      "    timer.stop()\n",
      "    return bam, bam_sorted, bam_index, timer.elapsed\n",
      "dview['convert_sam_to_bam']  = convert_sam_to_bam"
     ],
     "language": "python",
     "metadata": {},
     "outputs": [],
     "prompt_number": null
    },
    {
     "cell_type": "code",
     "collapsed": false,
     "input": [
      "bam_files = lview.map_async(convert_sam_to_bam, [x[1] for x in bowtie_indviduals_tasks_results.r])"
     ],
     "language": "python",
     "metadata": {},
     "outputs": [],
     "prompt_number": null
    },
    {
     "cell_type": "code",
     "collapsed": false,
     "input": [
      "print bam_files.progress, len(bam_files), bam_files.ready()"
     ],
     "language": "python",
     "metadata": {},
     "outputs": [],
     "prompt_number": null
    },
    {
     "cell_type": "code",
     "collapsed": false,
     "input": [
      "def create_ploidy_file(bam_files):\n",
      "    d = os.path.dirname(bam_files[0])\n",
      "    base = os.path.basename(bam_files[0])\n",
      "    ploidy_file = os.path.join(d, \"%s.ploidy\" % base.split(\"_\")[0])\n",
      "    if not os.path.exists(ploidy_file):\n",
      "        with open(ploidy_file, \"w\") as o:\n",
      "            for b in bam_files:\n",
      "                ploidy = 1\n",
      "                if \"-\" in os.path.basename(b):\n",
      "                    ploidy = 2\n",
      "                o.write(\"%s\\t%d\\n\" % (b, ploidy))\n",
      "    return ploidy_file\n",
      "dview['create_ploidy_file'] = create_ploidy_file"
     ],
     "language": "python",
     "metadata": {},
     "outputs": [],
     "prompt_number": null
    },
    {
     "cell_type": "code",
     "collapsed": false,
     "input": [
      "def call_snps(args):\n",
      "    print socket.gethostname()\n",
      "    timer = stopwatch.Timer()\n",
      "    samtools, reference, bam_sorted, bcftools, raw_bcf, vcfutils, raw_vcf = args \n",
      "    ploidy_file = create_ploidy_file(bam_sorted)\n",
      "    pileup = \"%s mpileup -uf %s %s | %s view -s %s -bvcg - > %s\" % (samtools, reference, ' '.join(bam_sorted), bcftools, ploidy_file, raw_bcf) \n",
      "    view_filter = \"%s view -s %s %s | %s varFilter -D100 > %s\" % (bcftools, ploidy_file, raw_bcf, vcfutils, raw_vcf)\n",
      "    print pileup\n",
      "    !$pileup\n",
      "    print view_filter\n",
      "    !$view_filter\n",
      "    timer.stop()\n",
      "    return raw_vcf, args, pileup, view_filter, timer.elapsed\n",
      "dview['call_snps'] = call_snps"
     ],
     "language": "python",
     "metadata": {},
     "outputs": [],
     "prompt_number": null
    },
    {
     "cell_type": "code",
     "collapsed": false,
     "input": [
      "samtools = \"/home/cfriedline/data7/src/samtools-0.1.19/samtools\"\n",
      "bcftools = \"/home/cfriedline/data7/src/samtools-0.1.19/bcftools/bcftools\"\n",
      "vcfutils = \"/home/cfriedline/data7/src/samtools-0.1.19/bcftools/vcfutils.pl\"\n",
      "snp_tasks = defaultdict(defaultdict)\n",
      "for x in bam_files:\n",
      "    bam, bam_sorted, bam_index, elapsed = x\n",
      "    out_dir = os.path.dirname(bam)\n",
      "    color = os.path.basename(bam).split(\"_\")[0]\n",
      "    reference = os.path.join(os.path.abspath(lap_scores[color]['max_f'].replace(\".lap\", \"\")), \"contigs.fa\")\n",
      "    ref_index = \"%s.fai\" % reference\n",
      "    assert os.path.exists(reference)\n",
      "    if not os.path.exists(ref_index):\n",
      "        print \"indexing %s\" % reference\n",
      "        !/home/cfriedline/data7/src/samtools-0.1.19/samtools faidx $reference\n",
      "    snp_tasks[color]['reference'] = reference\n",
      "    if not 'bams' in snp_tasks[color]:\n",
      "        snp_tasks[color]['bams'] = []\n",
      "    snp_tasks[color]['bams'].append(bam_sorted)"
     ],
     "language": "python",
     "metadata": {},
     "outputs": [],
     "prompt_number": null
    },
    {
     "cell_type": "code",
     "collapsed": false,
     "input": [
      "for k, v in snp_tasks.items():\n",
      "    args = samtools, v['reference'], v['bams'], bcftools, os.path.join(out_dir, \"%s.raw.bcf\" % k), vcfutils, os.path.join(out_dir, \"%s.raw.vcf\" % k)\n",
      "    v['input'] = args"
     ],
     "language": "python",
     "metadata": {},
     "outputs": [],
     "prompt_number": null
    },
    {
     "cell_type": "code",
     "collapsed": false,
     "input": [
      "for k, v in snp_tasks.items():\n",
      "    v['output'] = lview.apply_async(call_snps, v['input'])"
     ],
     "language": "python",
     "metadata": {},
     "outputs": [],
     "prompt_number": null
    },
    {
     "cell_type": "code",
     "collapsed": false,
     "input": [
      "for k, v in snp_tasks.items():\n",
      "    r = v['output']\n",
      "    print r.ready(), \n",
      "    for x in r.stdout.split(\"\\n\")[-6:-1]:\n",
      "        print x\n",
      "    if r.ready():\n",
      "        print \"**DONE\", r.r[0], r.r[-1]"
     ],
     "language": "python",
     "metadata": {},
     "outputs": [],
     "prompt_number": null
    },
    {
     "cell_type": "code",
     "collapsed": false,
     "input": [
      "from IPython.display import FileLink, FileLinks"
     ],
     "language": "python",
     "metadata": {},
     "outputs": [],
     "prompt_number": null
    },
    {
     "cell_type": "code",
     "collapsed": false,
     "input": [
      "home = os.environ['SGE_CWD_PATH']\n",
      "link = os.path.join(home, \"foxtail_snps\")\n",
      "if not os.path.exists(link):\n",
      "    !ln -s {os.path.dirname(snp_results.r[0][0])} {link}\n",
      "FileLinks(link, included_suffixes=['.vcf'], notebook_display_formatter=None, url_prefix=\"files/\")"
     ],
     "language": "python",
     "metadata": {},
     "outputs": [],
     "prompt_number": null
    },
    {
     "cell_type": "code",
     "collapsed": false,
     "input": [
      "vcf_files = !ls /home/cfriedline/data7/assemblies/foxtail/individuals/*.vcf"
     ],
     "language": "python",
     "metadata": {},
     "outputs": [],
     "prompt_number": null
    },
    {
     "cell_type": "code",
     "collapsed": false,
     "input": [
      "vcf_files"
     ],
     "language": "python",
     "metadata": {},
     "outputs": [],
     "prompt_number": null
    },
    {
     "cell_type": "code",
     "collapsed": false,
     "input": [
      "vcftools = \"/home/cfriedline/data7/src/vcftools_0.1.11/bin/vcftools\""
     ],
     "language": "python",
     "metadata": {},
     "outputs": [],
     "prompt_number": null
    },
    {
     "cell_type": "code",
     "collapsed": false,
     "input": [
      "def run_vcftools(f):\n",
      "    print socket.gethostname()\n",
      "    !/home/cfriedline/data7/src/vcftools_0.1.11/bin/vcftools --vcf $f --remove-indels --minGQ 5 --012 --out $f\n",
      "    return f\n",
      "dview['run_vcftools'] = run_vcftools"
     ],
     "language": "python",
     "metadata": {},
     "outputs": [],
     "prompt_number": null
    },
    {
     "cell_type": "code",
     "collapsed": false,
     "input": [
      "vcftools_all = lview.map_async(run_vcftools, vcf_files)"
     ],
     "language": "python",
     "metadata": {},
     "outputs": [],
     "prompt_number": null
    },
    {
     "cell_type": "code",
     "collapsed": false,
     "input": [
      "if vcftools_all.ready():\n",
      "#     print vcftools_all.r\n",
      "    print vcftools_all.r\n",
      "else:\n",
      "    print vcftools_all.progress"
     ],
     "language": "python",
     "metadata": {},
     "outputs": [],
     "prompt_number": null
    },
    {
     "cell_type": "code",
     "collapsed": false,
     "input": [
      "cd ~/data7/assemblies/foxtail/individuals/"
     ],
     "language": "python",
     "metadata": {},
     "outputs": [],
     "prompt_number": null
    },
    {
     "cell_type": "code",
     "collapsed": false,
     "input": [
      "genotypes = !ls *.012"
     ],
     "language": "python",
     "metadata": {},
     "outputs": [],
     "prompt_number": null
    },
    {
     "cell_type": "code",
     "collapsed": false,
     "input": [
      "genotypes = [os.path.abspath(x) for x in genotypes]"
     ],
     "language": "python",
     "metadata": {},
     "outputs": [],
     "prompt_number": null
    },
    {
     "cell_type": "code",
     "collapsed": false,
     "input": [
      "genotypes"
     ],
     "language": "python",
     "metadata": {},
     "outputs": [],
     "prompt_number": null
    },
    {
     "cell_type": "code",
     "collapsed": false,
     "input": [
      "import pandas as pd\n",
      "import numpy as np\n",
      "import rpy2.robjects as robjects"
     ],
     "language": "python",
     "metadata": {},
     "outputs": [],
     "prompt_number": null
    },
    {
     "cell_type": "code",
     "collapsed": false,
     "input": [
      "pool = multiprocessing.Pool()"
     ],
     "language": "python",
     "metadata": {},
     "outputs": []
    },
    {
     "cell_type": "code",
     "collapsed": false,
     "input": [
      "genotype_data = defaultdict(defaultdict)\n",
      "for g in genotypes:\n",
      "    g_list = []\n",
      "    with open(g) as f:\n",
      "        for line in f:\n",
      "            g_list.append(line.strip().split(\"\\t\"))\n",
      "    df = pandas.DataFrame(np.array(g_list))\n",
      "    genotype_data[os.path.basename(g)]['df'] = df"
     ],
     "language": "python",
     "metadata": {},
     "outputs": [],
     "prompt_number": null
    },
    {
     "cell_type": "code",
     "collapsed": false,
     "input": [
      "for k, v in genotype_data.items():\n",
      "    df = v['df']\n",
      "    count_tasks = []\n",
      "    for i in xrange(len(df.columns)):\n",
      "        count_tasks.append(df[i])\n",
      "    v['res'] = pool.map_async(pandas.value_counts, count_tasks, chunksize=1000)"
     ],
     "language": "python",
     "metadata": {},
     "outputs": [],
     "prompt_number": null
    },
    {
     "cell_type": "code",
     "collapsed": false,
     "input": [
      "def get_obs_f(series):\n",
      "    obs = []\n",
      "    for x in ['0', '1', '2', '-1']:\n",
      "        if x in series:\n",
      "            obs.append(float(series[x]))\n",
      "        else:\n",
      "            obs.append(0.0)\n",
      "    return numpy.array(obs)"
     ],
     "language": "python",
     "metadata": {},
     "outputs": [],
     "prompt_number": null
    },
    {
     "cell_type": "code",
     "collapsed": false,
     "input": [
      "def get_corrected_p(p, alpha, num):\n",
      "    s = alpha/num\n",
      "    return numpy.array([s, p < s])"
     ],
     "language": "python",
     "metadata": {},
     "outputs": [],
     "prompt_number": null
    },
    {
     "cell_type": "code",
     "collapsed": false,
     "input": [
      "timer = stopwatch.Timer()\n",
      "for k, v in genotype_data.items():\n",
      "    t2 = stopwatch.Timer()\n",
      "    print k\n",
      "    d = v['res'].get()[1:]\n",
      "    v['sig'] = []\n",
      "    num_snps = len(d)\n",
      "    for i, x in enumerate(d):\n",
      "        obs_f = get_obs_f(x)\n",
      "        x2, p = scipy.stats.chisquare(obs_f[0:3:2])\n",
      "        p_cor = get_corrected_p(p, 0.05, num_snps)\n",
      "        v['sig'].append([i, obs_f.tolist(), x2, p, p_cor.tolist()])\n",
      "    t2.stop()\n",
      "    print \"%s done in %s\" % (k, t2)\n",
      "timer.stop()\n",
      "print \"done in %s\" % timer"
     ],
     "language": "python",
     "metadata": {},
     "outputs": [],
     "prompt_number": null
    },
    {
     "cell_type": "code",
     "collapsed": false,
     "input": [
      "for k, v in genotype_data.items():\n",
      "    print k\n",
      "    keep = []\n",
      "    drop = []\n",
      "    for x in v['sig']:\n",
      "        if x[-1][-1] == 0:\n",
      "            keep.append(x)\n",
      "        else:\n",
      "            drop.append(x)\n",
      "    v['keep'] = keep\n",
      "    v['drop'] = drop"
     ],
     "language": "python",
     "metadata": {},
     "outputs": [],
     "prompt_number": null
    },
    {
     "cell_type": "code",
     "collapsed": false,
     "input": [
      "for k, v in genotype_data.items():\n",
      "    v['df2'] = v['df'].copy()"
     ],
     "language": "python",
     "metadata": {},
     "outputs": [],
     "prompt_number": null
    },
    {
     "cell_type": "code",
     "collapsed": false,
     "input": [
      "for k, v in genotype_data.items():\n",
      "    print k\n",
      "    drop = [x[0]+1 for x in v['drop']] #b/c there's the first call for the sample #'s\n",
      "    v['df2'] = v['df2'].drop(drop,1)"
     ],
     "language": "python",
     "metadata": {},
     "outputs": [],
     "prompt_number": null
    },
    {
     "cell_type": "code",
     "collapsed": false,
     "input": [
      "for k, v in genotype_data.items():\n",
      "    print k\n",
      "    print len(v['df'].columns), len(v['df2'].columns)\n",
      "    print v['df'].columns[0:10], v['df2'].columns[0:10]\n",
      "    h = open(\"%s_filt.012\" % k, \"w\")\n",
      "    v['df2'].to_csv(h, sep=\"\\t\", header=False, index=False)\n",
      "    h.close()"
     ],
     "language": "python",
     "metadata": {},
     "outputs": [],
     "prompt_number": null
    },
    {
     "cell_type": "code",
     "collapsed": false,
     "input": [
      "for k, v in genotype_data.items():\n",
      "    print k\n",
      "    h = open(\"%s.stat\" % k, \"w\")\n",
      "    h.write(\"#\\t0\\t1\\t2\\t-1\\tx2\\tp\\tp_cor\\tsig\\n\")\n",
      "    for x in v['sig']:\n",
      "        line = \"\"\n",
      "        for y in x:\n",
      "            if isinstance(y, list):\n",
      "                line += \"\\t\".join([str(z) for z in y])\n",
      "            else:\n",
      "                line += \"\\t\" + str(y) + \"\\t\"\n",
      "        h.write(\"%s\\n\" % '\\t'.join([a for a in line.split(\"\\t\") if a != '']))                      \n",
      "    h.close()"
     ],
     "language": "python",
     "metadata": {},
     "outputs": [],
     "prompt_number": null
    },
    {
     "cell_type": "code",
     "collapsed": false,
     "input": [
      "filtered_zip = \"snps_filtered.zip\"\n",
      "!rm $filtered_zip\n",
      "!zip $filtered_zip *_filt.012\n",
      "!zip -g $filtered_zip *012.stat"
     ],
     "language": "python",
     "metadata": {},
     "outputs": [],
     "prompt_number": null
    },
    {
     "cell_type": "code",
     "collapsed": false,
     "input": [
      "home = os.environ['SGE_CWD_PATH']\n",
      "link = os.path.join(home, \"foxtail_snps\")\n",
      "if not os.path.exists(link):\n",
      "    !ln -s {os.path.dirname(snp_results.r[0][0])} {link}\n",
      "FileLinks(link, included_suffixes=['.zip'])"
     ],
     "language": "python",
     "metadata": {},
     "outputs": [],
     "prompt_number": null
    },
    {
     "cell_type": "code",
     "collapsed": false,
     "input": [
      "pool.close()\n",
      "pool.join()"
     ],
     "language": "python",
     "metadata": {},
     "outputs": [],
     "prompt_number": null
    }
   ],
   "metadata": {}
  }
 ]
}