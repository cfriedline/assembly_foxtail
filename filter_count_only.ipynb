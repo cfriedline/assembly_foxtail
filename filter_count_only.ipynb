{
 "metadata": {
  "name": "",
  "signature": "sha256:67b1acfa67a855d4f03513e8f37208ae6e0f8ca7935f6d94a081031fe916fb9f"
 },
 "nbformat": 3,
 "nbformat_minor": 0,
 "worksheets": [
  {
   "cells": [
    {
     "cell_type": "markdown",
     "metadata": {},
     "source": [
      "#Get the raw numbers for each library\n",
      "\n",
      "This notebook will get the raw counts for each library since these were not generated during the filtering step (filtering was done w/o demultiplexing first)."
     ]
    },
    {
     "cell_type": "code",
     "collapsed": false,
     "input": [
      "file_dir = \"/data7/cfriedline/eckertlab/bccl.csbc.vcu.edu/internal/Eckert/HiSeq_131001\"\n",
      "file_dir = \"/data7/cfriedline/eckertlab/bccl.csbc.vcu.edu/internal/Eckert/HiSeq_130529/\""
     ],
     "language": "python",
     "metadata": {},
     "outputs": [],
     "prompt_number": ""
    },
    {
     "cell_type": "code",
     "collapsed": false,
     "input": [
      "import os\n",
      "gz_files = []\n",
      "for root, dirs, files in os.walk(file_dir):\n",
      "    for f in files:\n",
      "        if \".gz\" in f:\n",
      "            gz_files.append(os.path.join(root, f))"
     ],
     "language": "python",
     "metadata": {},
     "outputs": [],
     "prompt_number": ""
    },
    {
     "cell_type": "code",
     "collapsed": false,
     "input": [
      "gz_files"
     ],
     "language": "python",
     "metadata": {},
     "outputs": [],
     "prompt_number": ""
    },
    {
     "cell_type": "markdown",
     "metadata": {},
     "source": [
      "['/home/cfriedline/eckertlab/bccl.csbc.vcu.edu/internal/Eckert/HiSeq_130529/PurplePool/lane3_Undetermined_L003_read1.fastq.gz',\n",
      " '/home/cfriedline/eckertlab/bccl.csbc.vcu.edu/internal/Eckert/HiSeq_130529/PurplePool/lane3_Undetermined_L003_read1.fastq.test.gz',\n",
      " '/home/cfriedline/eckertlab/bccl.csbc.vcu.edu/internal/Eckert/HiSeq_130529/RPG/lane4_read1.fastq.gz',\n",
      " '/home/cfriedline/eckertlab/bccl.csbc.vcu.edu/internal/Eckert/HiSeq_130529/Blue/lane6_Undetermined_L006_read1.fastq.gz']"
     ]
    },
    {
     "cell_type": "code",
     "collapsed": false,
     "input": [
      "from IPython.parallel import Client"
     ],
     "language": "python",
     "metadata": {},
     "outputs": [],
     "prompt_number": ""
    },
    {
     "cell_type": "code",
     "collapsed": false,
     "input": [
      "rc = Client(profile=\"sge\")\n",
      "print len(rc.ids)\n",
      "#pid map pid_map = rc[:].apply_async(os.getpid).get_dict()\u00e54"
     ],
     "language": "python",
     "metadata": {},
     "outputs": [],
     "prompt_number": ""
    },
    {
     "cell_type": "code",
     "collapsed": false,
     "input": [
      "dview = rc[:] #all nodes\n",
      "lview = rc.load_balanced_view() # for load balancing"
     ],
     "language": "python",
     "metadata": {},
     "outputs": [],
     "prompt_number": ""
    },
    {
     "cell_type": "code",
     "collapsed": false,
     "input": [
      "with dview.sync_imports():\n",
      "    import socket"
     ],
     "language": "python",
     "metadata": {},
     "outputs": [],
     "prompt_number": ""
    },
    {
     "cell_type": "code",
     "collapsed": false,
     "input": [
      "@lview.remote()\n",
      "def run_pickle_dump(obj, f):\n",
      "    pickle.dump(obj, open(f, \"w\"))"
     ],
     "language": "python",
     "metadata": {},
     "outputs": [],
     "prompt_number": ""
    },
    {
     "cell_type": "code",
     "collapsed": false,
     "input": [
      "@lview.remote()\n",
      "def run_pickle_load(f):\n",
      "    return pickle.load(f)"
     ],
     "language": "python",
     "metadata": {},
     "outputs": [],
     "prompt_number": ""
    },
    {
     "cell_type": "code",
     "collapsed": false,
     "input": [
      "@dview.remote(block=True)\n",
      "def get_cpu_count():\n",
      "    import multiprocessing as mp\n",
      "    import socket\n",
      "    return socket.gethostname(), mp.cpu_count()\n",
      "cpu_counts = get_cpu_count()\n",
      "from collections import defaultdict\n",
      "cpu_dict = defaultdict(list)\n",
      "for i, c in enumerate(cpu_counts):\n",
      "    if c[1] >= 16:\n",
      "        cpu_dict[c[0]].append(i)  \n",
      "print cpu_dict\n",
      "cview = rc.load_balanced_view(targets=[v[0] for k, v in cpu_dict.items()])"
     ],
     "language": "python",
     "metadata": {},
     "outputs": [],
     "prompt_number": ""
    },
    {
     "cell_type": "code",
     "collapsed": false,
     "input": [
      "with dview.sync_imports():\n",
      "    import stopwatch\n",
      "    import numpy\n",
      "    import numpy as np\n",
      "    import scipy\n",
      "    import pandas\n",
      "    import gzip\n",
      "    import os\n",
      "    import tempfile\n",
      "    import shutil\n",
      "    import socket\n",
      "    from Bio.SeqIO.QualityIO import FastqGeneralIterator\n",
      "    from collections import deque, defaultdict\n",
      "    import multiprocessing \n",
      "    from multiprocessing import Pool, Manager\n",
      "    import traceback\n",
      "    from itertools import izip"
     ],
     "language": "python",
     "metadata": {},
     "outputs": [],
     "prompt_number": ""
    },
    {
     "cell_type": "code",
     "collapsed": false,
     "input": [
      "@lview.remote()\n",
      "def get_num_seqs(f):\n",
      "#     count = 0\n",
      "#     fastq = gzip.open(f)\n",
      "#     for title, seq, qual in FastqGeneralIterator(fastq):    \n",
      "#         count += 1\n",
      "    count = !zgrep -c . $f\n",
      "    return (f, int(count[0])/4)"
     ],
     "language": "python",
     "metadata": {},
     "outputs": [],
     "prompt_number": ""
    },
    {
     "cell_type": "code",
     "collapsed": false,
     "input": [
      "num_seq_jobs = []\n",
      "for f in gz_files:\n",
      "    num_seq_jobs.append(get_num_seqs(f))"
     ],
     "language": "python",
     "metadata": {},
     "outputs": [],
     "prompt_number": ""
    },
    {
     "cell_type": "code",
     "collapsed": false,
     "input": [
      "waiting = 0\n",
      "for j in num_seq_jobs:\n",
      "    if j.ready():\n",
      "        print j.r, j.elapsed\n",
      "    else:\n",
      "        print \"**WAITING**\", j.elapsed\n",
      "        waiting += 1\n",
      "print \"waiting: %d\" % waiting"
     ],
     "language": "python",
     "metadata": {},
     "outputs": [],
     "prompt_number": ""
    },
    {
     "cell_type": "markdown",
     "metadata": {},
     "source": [
      "##Read counts\n",
      "\n",
      "###Yellow\n",
      "('/home/cfriedline/eckertlab/bccl.csbc.vcu.edu/internal/Eckert/HiSeq_131001/lane7_Undetermined_L007_R1_001.fastq.gz', 181613017) \n",
      "\n",
      "###Green\n",
      "('/home/cfriedline/eckertlab/bccl.csbc.vcu.edu/internal/Eckert/HiSeq_131001/lane8_Undetermined_L008_R1_001.fastq.gz', 189302607) \n",
      "\n",
      "###Purple\n",
      "('/home/cfriedline/eckertlab/bccl.csbc.vcu.edu/internal/Eckert/HiSeq_130529/PurplePool/lane3_Undetermined_L003_read1.fastq.gz', 34532658)\n",
      "\n",
      "###Red+Purple+Green\n",
      "('/home/cfriedline/eckertlab/bccl.csbc.vcu.edu/internal/Eckert/HiSeq_130529/RPG/lane4_read1.fastq.gz', 131250110)\n",
      "\n",
      "###Blue\n",
      "('/home/cfriedline/eckertlab/bccl.csbc.vcu.edu/internal/Eckert/HiSeq_130529/Blue/lane6_Undetermined_L006_read1.fastq.gz', 173053059)"
     ]
    },
    {
     "cell_type": "markdown",
     "metadata": {},
     "source": [
      "##Now that we have all of the counts, build a static structure and work from it"
     ]
    },
    {
     "cell_type": "code",
     "collapsed": false,
     "input": [
      "seq_nums = {'/home/cfriedline/eckertlab/bccl.csbc.vcu.edu/internal/Eckert/HiSeq_130529/Blue/lane6_Undetermined_L006_read1.fastq.gz':\n",
      "            {'count':173053059, \n",
      "             \"color\":'blue',\n",
      "             'bc_file':'/home/cfriedline/eckertlab/bccl.csbc.vcu.edu/internal/Eckert/HiSeq_130529/Blue/barcodes'},\n",
      "            \n",
      "            '/home/cfriedline/eckertlab/bccl.csbc.vcu.edu/internal/Eckert/HiSeq_130529/RPG/lane4_read1.fastq.gz':\n",
      "            {\"count\":131250110,\n",
      "             \"color\":'rpg',\n",
      "             'bc_file':'/home/cfriedline/eckertlab/bccl.csbc.vcu.edu/internal/Eckert/HiSeq_130529/RPG/barcodes'},\n",
      "            \n",
      "            '/home/cfriedline/eckertlab/bccl.csbc.vcu.edu/internal/Eckert/HiSeq_131001/lane8_Undetermined_L008_R1_001.fastq.gz':\n",
      "            {\"count\":189302607,\n",
      "             \"color\":'green',\n",
      "             'bc_file':'/home/cfriedline/data7/HiSeq_131001/Green/barcodes'},\n",
      "            \n",
      "            '/home/cfriedline/eckertlab/bccl.csbc.vcu.edu/internal/Eckert/HiSeq_131001/lane7_Undetermined_L007_R1_001.fastq.gz':\n",
      "            {\"count\":181613017,\n",
      "             \"color\":'yellow',\n",
      "             'bc_file':'/home/cfriedline/data7/HiSeq_131001/Yellow/barcodes'}\n",
      "            }"
     ],
     "language": "python",
     "metadata": {},
     "outputs": [],
     "prompt_number": ""
    },
    {
     "cell_type": "markdown",
     "metadata": {},
     "source": [
      "##Get the barocodes for each"
     ]
    },
    {
     "cell_type": "code",
     "collapsed": false,
     "input": [
      "@lview.remote()\n",
      "def get_barcodes(f):\n",
      "    bcs = defaultdict()\n",
      "    bc_lens = set()\n",
      "    h = open(f)\n",
      "    h.readline()\n",
      "    for line in h:\n",
      "        line = line.strip()\n",
      "        data = line.split(\"\\t\")\n",
      "        if len(data) > 1: #skip blank lines\n",
      "            if \",\" in data[0]:\n",
      "                data[0] = data[0].replace(\" \", \"\").replace(\",\", \"-\")\n",
      "            bc = data[4].upper().replace(\"CTCTTTCCCTACACGACGCTCTTCCGATCT\", \"\")[:-1]\n",
      "            bc_lens.add(len(bc))\n",
      "            bcs[bc] = data[1] + \"_\" + data[0]        \n",
      "    return bcs, bc_lens    "
     ],
     "language": "python",
     "metadata": {},
     "outputs": [],
     "prompt_number": ""
    },
    {
     "cell_type": "code",
     "collapsed": false,
     "input": [
      "for fastq, data in seq_nums.items():\n",
      "    bc = data['bc_file']\n",
      "    assert os.path.exists(bc)\n",
      "    data['bc']=get_barcodes(bc)"
     ],
     "language": "python",
     "metadata": {},
     "outputs": [],
     "prompt_number": ""
    },
    {
     "cell_type": "code",
     "collapsed": false,
     "input": [
      "@lview.remote()\n",
      "def demult_count(f, barcodes, barcode_lens):\n",
      "    print f\n",
      "    len_key = \"lens\"\n",
      "    hostname = socket.gethostname()\n",
      "    timer = stopwatch.Timer()\n",
      "    count = 0\n",
      "    missing_barcode = 0\n",
      "    found = {}\n",
      "    h = open(f)\n",
      "    if f.endswith(\"gz\"):\n",
      "        h.close()\n",
      "        h = gzip.open(f)\n",
      "    for title, seq, qual in FastqGeneralIterator(h):\n",
      "        barcoded = False\n",
      "        for l in barcode_lens: \n",
      "            bc = seq[0:l]\n",
      "            if bc in barcodes:\n",
      "                if not bc in found:\n",
      "                    found[bc] = 1\n",
      "                else:\n",
      "                    found[bc] += 1\n",
      "                barcoded = True\n",
      "                break\n",
      "        if not barcoded:\n",
      "            missing_barcode += 1\n",
      "        else:\n",
      "            if not len_key in found:\n",
      "                found[len_key] = []\n",
      "            found[len_key].append(len(seq))\n",
      "        \n",
      "        count += 1\n",
      "            \n",
      "        if count % 1000000 == 0:\n",
      "            print hostname, f, count\n",
      "            \n",
      "    return hostname, found, count, missing_barcode, len_key"
     ],
     "language": "python",
     "metadata": {},
     "outputs": [],
     "prompt_number": ""
    },
    {
     "cell_type": "code",
     "collapsed": false,
     "input": [
      "barcode_counts = {}\n",
      "for fastq, data in seq_nums.items():\n",
      "    barcodes, barcode_lens = data['bc'].get()\n",
      "    r = demult_count(fastq, barcodes, barcode_lens)\n",
      "    barcode_counts[fastq] = r"
     ],
     "language": "python",
     "metadata": {},
     "outputs": [],
     "prompt_number": ""
    },
    {
     "cell_type": "code",
     "collapsed": false,
     "input": [
      "for fastq, c in barcode_counts.items():\n",
      "    print fastq\n",
      "    try:\n",
      "        stdout = c.stdout.split(\"\\n\")\n",
      "        at = float(stdout[-2].split()[-1])\n",
      "        perc = at*100/seq_nums[fastq]['count']\n",
      "        print int(at), numpy.round(perc,2)\n",
      "    except:    \n",
      "        pass\n",
      "    \n",
      "    if c.ready():\n",
      "        print \"DONE!\""
     ],
     "language": "python",
     "metadata": {},
     "outputs": [],
     "prompt_number": ""
    },
    {
     "cell_type": "code",
     "collapsed": false,
     "input": [
      "total_counts = {}\n",
      "for fastq, data in seq_nums.items():\n",
      "    bc_data = barcode_counts[fastq].get()\n",
      "    assert data['count'] == bc_data[2]\n",
      "    for key, count in bc_data[1].items():\n",
      "        if key != \"lens\":\n",
      "            bc_sample = data['bc'].get()\n",
      "            color = bc_sample[0][key].split(\"_\")[0]\n",
      "            if not color == \"Purple\":\n",
      "                if not color in total_counts:\n",
      "                    total_counts[color] = {\"count\":count}\n",
      "                else:\n",
      "                    total_counts[color]['count'] += count"
     ],
     "language": "python",
     "metadata": {},
     "outputs": [],
     "prompt_number": ""
    },
    {
     "cell_type": "code",
     "collapsed": false,
     "input": [
      "total_counts"
     ],
     "language": "python",
     "metadata": {},
     "outputs": [],
     "prompt_number": ""
    },
    {
     "cell_type": "markdown",
     "metadata": {},
     "source": [
      "{'Blue': {'count': 159612555},\n",
      " 'Green': {'count': 206365836},\n",
      " 'Red': {'count': 71834280},\n",
      " 'Yellow': {'count': 174516834}}"
     ]
    },
    {
     "cell_type": "code",
     "collapsed": false,
     "input": [
      "def get_demulted_files():\n",
      "    fastq_individuals_temp = !find /data7/cfriedline/eckertlab/bccl.csbc.vcu.edu/internal/Eckert -type f | grep .fastq$ | grep -v lane\n",
      "    fastq_individuals_temp2 = !find /data7/cfriedline/data7/HiSeq_131001 -type f | grep .fastq$\n",
      "    fastq_individuals = []\n",
      "    fastq_individuals_set = set()\n",
      "    for x in fastq_individuals_temp:\n",
      "        if '_130529' in x:\n",
      "            base = os.path.basename(x)\n",
      "            if 'Green' in base or 'Red' in base:\n",
      "                if 'renamed' in x:\n",
      "                    assert base not in fastq_individuals_set\n",
      "                    fastq_individuals_set.add(base)\n",
      "                    fastq_individuals.append(x)\n",
      "            elif 'Blue' in x:\n",
      "                assert base not in fastq_individuals_set\n",
      "                fastq_individuals_set.add(base)\n",
      "                fastq_individuals.append(x)            \n",
      "    for x in fastq_individuals_temp2:\n",
      "        base = os.path.basename(x)\n",
      "        if 'Green' in base or 'Yellow' in base:\n",
      "            assert base not in fastq_individuals_set\n",
      "            fastq_individuals_set.add(base)\n",
      "            fastq_individuals.append(x)\n",
      "    return sorted(fastq_individuals)"
     ],
     "language": "python",
     "metadata": {},
     "outputs": [],
     "prompt_number": ""
    },
    {
     "cell_type": "code",
     "collapsed": false,
     "input": [
      "demulted_files = get_demulted_files()"
     ],
     "language": "python",
     "metadata": {},
     "outputs": [],
     "prompt_number": ""
    },
    {
     "cell_type": "code",
     "collapsed": false,
     "input": [
      "demult_nums = []\n",
      "demult_lens = []\n",
      "for f in demulted_files:\n",
      "    color = os.path.basename(f).split(\"_\")[0]\n",
      "    demult_nums.append(get_num_seqs(f))"
     ],
     "language": "python",
     "metadata": {},
     "outputs": [],
     "prompt_number": ""
    },
    {
     "cell_type": "code",
     "collapsed": false,
     "input": [
      "demult_ready = 0\n",
      "for d in demult_nums:\n",
      "    if d.ready():\n",
      "       # print d.get()\n",
      "        demult_ready+=1\n",
      "print \"%d/%d\" % (demult_ready, len(demult_nums))"
     ],
     "language": "python",
     "metadata": {},
     "outputs": [],
     "prompt_number": ""
    },
    {
     "cell_type": "code",
     "collapsed": false,
     "input": [
      "demult_sorted = sorted([x.get() for x in demult_nums], key=lambda tup: tup[1], reverse=True)"
     ],
     "language": "python",
     "metadata": {},
     "outputs": [],
     "prompt_number": ""
    },
    {
     "cell_type": "code",
     "collapsed": false,
     "input": [
      "@lview.remote()\n",
      "def get_read_lens(fastq):\n",
      "    lens = []\n",
      "    for title, seq, qual in FastqGeneralIterator(open(fastq)):\n",
      "        lens.append(len(seq))\n",
      "    return fastq, lens"
     ],
     "language": "python",
     "metadata": {},
     "outputs": [],
     "prompt_number": ""
    },
    {
     "cell_type": "code",
     "collapsed": false,
     "input": [
      "demult_counts = {}\n",
      "demult_lens_jobs = []\n",
      "for x in demult_sorted:\n",
      "    demult_lens_jobs.append(get_read_lens(x[0]))\n",
      "    color = os.path.basename(x[0]).split(\"_\")[0]\n",
      "    if not color in demult_counts:\n",
      "        d = {}\n",
      "        d['count'] = [x[1]]\n",
      "        demult_counts[color] = d\n",
      "    else:\n",
      "        demult_counts[color]['count'].append(x[1])"
     ],
     "language": "python",
     "metadata": {},
     "outputs": [],
     "prompt_number": ""
    },
    {
     "cell_type": "code",
     "collapsed": false,
     "input": [
      "ready = 0\n",
      "for j in demult_lens_jobs:\n",
      "    if j.ready():\n",
      "        ready +=1\n",
      "        res = j.r\n",
      "        color = os.path.basename(res[0]).split(\"_\")[0]\n",
      "        if not 'lens' in demult_counts[color]:\n",
      "            demult_counts[color]['lens'] = []\n",
      "        demult_counts[color]['lens'].extend(res[1])"
     ],
     "language": "python",
     "metadata": {},
     "outputs": [],
     "prompt_number": ""
    },
    {
     "cell_type": "markdown",
     "metadata": {},
     "source": [
      "##Per-library read distribution"
     ]
    },
    {
     "cell_type": "code",
     "collapsed": false,
     "input": [
      "for color, data in demult_counts.items():\n",
      "    count = data['count']\n",
      "    sumval = np.sum(count)\n",
      "    meanval = np.mean(count)\n",
      "    sdval = np.std(count)\n",
      "    perc = np.round(sumval*1.0/total_counts[color]['count'],2)\n",
      "    print color, \\\n",
      "    sumval, \\\n",
      "    total_counts[color]['count'], \\\n",
      "    perc,\\\n",
      "    np.round(-1/perc,2),\\\n",
      "    \"[%d, %d]\" % (np.min(count), np.max(count)),\\\n",
      "    \"%.2f +/- %.2f\" % (meanval, sdval)"
     ],
     "language": "python",
     "metadata": {},
     "outputs": [],
     "prompt_number": ""
    },
    {
     "cell_type": "markdown",
     "metadata": {},
     "source": [
      "Blue 80498688 159612555 0.5 -2.0 [33, 2197614] 838528.00 +/- 462309.78\n",
      "\n",
      "Green 129396774 206365836 0.63 -1.59 [1417, 6838986] 1748605.05 +/- 1522853.43\n",
      "\n",
      "Red 28041978 71834280 0.39 -2.56 [286, 1437830] 364181.53 +/- 406650.52\n",
      "\n",
      "Yellow 131540433 174516834 0.75 -1.33 [1277, 3211852] 1370212.84 +/- 791939.02"
     ]
    },
    {
     "cell_type": "markdown",
     "metadata": {},
     "source": [
      "##Overall read distribution"
     ]
    },
    {
     "cell_type": "code",
     "collapsed": false,
     "input": [
      "total_count_data = []\n",
      "for color, data in total_counts.items():\n",
      "    total_count_data.append(data['count'])\n",
      "print \"mean=%.2f, sd=%.2f\" % (np.mean(total_count_data), np.std(total_count_data))"
     ],
     "language": "python",
     "metadata": {},
     "outputs": [],
     "prompt_number": ""
    },
    {
     "cell_type": "markdown",
     "metadata": {},
     "source": [
      "mean=153082376.25, sd=49855941.07"
     ]
    },
    {
     "cell_type": "markdown",
     "metadata": {},
     "source": [
      "##HiSeq 2000 vs 2500 total"
     ]
    },
    {
     "cell_type": "code",
     "collapsed": false,
     "input": [
      "hiseq_count_data = {}\n",
      "for color, data in total_counts.items():\n",
      "    hiseq = 2000\n",
      "    if color == \"Green\" or color == \"Yellow\":\n",
      "        hiseq = 2500\n",
      "    if not hiseq in hiseq_count_data:\n",
      "        hiseq_count_data[hiseq] = []\n",
      "    hiseq_count_data[hiseq].append(data['count'])\n",
      "print \"fold chance of sums of 2500 over 2000 = %.2f\" % (np.sum(hiseq_count_data[2500])*1.0/np.sum(hiseq_count_data[2000]))"
     ],
     "language": "python",
     "metadata": {},
     "outputs": [],
     "prompt_number": ""
    },
    {
     "cell_type": "markdown",
     "metadata": {},
     "source": [
      "fold chance of sums of 2500 over 2000 = 1.65"
     ]
    },
    {
     "cell_type": "markdown",
     "metadata": {},
     "source": [
      "##HiSeq 2000 vs 2500 after filtering"
     ]
    },
    {
     "cell_type": "code",
     "collapsed": false,
     "input": [
      "filtered_sums = []\n",
      "totals = []\n",
      "colors = []\n",
      "for color, data in demult_counts.items():\n",
      "    print len(data['lens'])\n",
      "    colors.append(color)\n",
      "    filtered_sums.append(np.sum(data['count']))\n",
      "    totals.append(total_counts[color]['count'])\n",
      "dec = np.sum(filtered_sums)*1.0/np.sum(totals)\n",
      "print \"fold change after filtering = %.2f\" % (-1/dec)\n",
      "ranges = []\n",
      "per_library_folds = -1/(np.array(filtered_sums)*1.0/np.array(totals))\n",
      "print \"colors=%s\" % colors\n",
      "print \"per library fold changes = %s, range=[%.2f, %.2f]\" % (per_library_folds, \n",
      "                                                             np.min(per_library_folds),\n",
      "                                                             np.max(per_library_folds))"
     ],
     "language": "python",
     "metadata": {},
     "outputs": [],
     "prompt_number": ""
    },
    {
     "cell_type": "markdown",
     "metadata": {},
     "source": [
      "fold change after filtering = -1.66\n",
      "\n",
      "colors=['Blue', 'Green', 'Red', 'Yellow']\n",
      "\n",
      "per library fold changes = [-1.98279697 -1.59482984 -2.56166951 -1.32671628], range=[-2.56, -1.33]"
     ]
    },
    {
     "cell_type": "code",
     "collapsed": false,
     "input": [
      "import pickle"
     ],
     "language": "python",
     "metadata": {},
     "outputs": [],
     "prompt_number": ""
    },
    {
     "cell_type": "code",
     "collapsed": false,
     "input": [
      "pickle.dump(demult_counts, open(\"demult_counts.pkl\", \"w\"))"
     ],
     "language": "python",
     "metadata": {},
     "outputs": [],
     "prompt_number": ""
    }
   ],
   "metadata": {}
  }
 ]
}