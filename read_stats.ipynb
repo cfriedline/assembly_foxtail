{
 "metadata": {
  "name": "",
  "signature": "sha256:ce17b90a77f458f0288434dc65ccae15b42381aee18700cc4399c9442fa14aef"
 },
 "nbformat": 3,
 "nbformat_minor": 0,
 "worksheets": [
  {
   "cells": [
    {
     "cell_type": "code",
     "collapsed": false,
     "input": [
      "import os\n",
      "import numpy as np\n",
      "import scipy as np\n",
      "from Bio.SeqIO.QualityIO import FastqGeneralIterator"
     ],
     "language": "python",
     "metadata": {},
     "outputs": [],
     "prompt_number": ""
    },
    {
     "cell_type": "code",
     "collapsed": false,
     "input": [
      "fastq_individuals_temp = !find /home/cfriedline/eckertlab/bccl.csbc.vcu.edu/internal/Eckert -type f | grep .fastq$\n",
      "fastq_individuals_temp2 = !find /home/cfriedline/data7/HiSeq_131001 -type f | grep .fastq$\n",
      "fastq_individuals = []\n",
      "fastq_individuals_set = set()\n",
      "for x in fastq_individuals_temp:\n",
      "    if '_130529' in x:\n",
      "        base = os.path.basename(x)\n",
      "        if 'Green' in base or 'Red' in base:\n",
      "            if 'renamed' in x:\n",
      "                assert base not in fastq_individuals_set\n",
      "                fastq_individuals_set.add(base)\n",
      "                fastq_individuals.append(x)\n",
      "        elif 'Blue' in x:\n",
      "            assert base not in fastq_individuals_set\n",
      "            fastq_individuals_set.add(base)\n",
      "            fastq_individuals.append(x)            \n",
      "for x in fastq_individuals_temp2:\n",
      "    base = os.path.basename(x)\n",
      "    if 'Green' in base or 'Yellow' in base:\n",
      "        assert base not in fastq_individuals_set\n",
      "        fastq_individuals_set.add(base)\n",
      "        fastq_individuals.append(x)\n",
      "fastq_individuals = sorted(fastq_individuals)"
     ],
     "language": "python",
     "metadata": {},
     "outputs": [],
     "prompt_number": ""
    },
    {
     "cell_type": "code",
     "collapsed": false,
     "input": [
      "for fastq in fastq"
     ],
     "language": "python",
     "metadata": {},
     "outputs": [],
     "prompt_number": ""
    },
    {
     "cell_type": "code",
     "collapsed": false,
     "input": [],
     "language": "python",
     "metadata": {},
     "outputs": []
    }
   ],
   "metadata": {}
  }
 ]
}