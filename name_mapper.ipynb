{
 "metadata": {
  "name": "",
  "signature": "sha256:56ca5dc3056d67adcf56fc6316ea02c994cd8b4ca866fdb3d702738ea2415a19"
 },
 "nbformat": 3,
 "nbformat_minor": 0,
 "worksheets": [
  {
   "cells": [
    {
     "cell_type": "code",
     "collapsed": false,
     "input": [
      "import os, sys\n",
      "from Bio import SeqIO\n",
      "import vcf\n",
      "import pandas as pd\n",
      "from IPython.display import FileLink"
     ],
     "language": "python",
     "metadata": {},
     "outputs": [],
     "prompt_number": ""
    },
    {
     "cell_type": "code",
     "collapsed": false,
     "input": [
      "pos_file = \"/home/eckertlab/foxtail/individuals_all/Green.raw.vcf.012.pos\""
     ],
     "language": "python",
     "metadata": {},
     "outputs": [],
     "prompt_number": ""
    },
    {
     "cell_type": "code",
     "collapsed": false,
     "input": [
      "df = pd.read_csv(pos_file, sep=\"\\t\", header=None, names=[\"contig\", \"pos\"])"
     ],
     "language": "python",
     "metadata": {},
     "outputs": [],
     "prompt_number": ""
    },
    {
     "cell_type": "code",
     "collapsed": false,
     "input": [
      "def add_snp_number(row):\n",
      "    return \"SNP_%d\" % (int(row.name)+1)\n",
      "def add_snp_index(row):\n",
      "    return int(row.name) + 1\n",
      "df['snp_name'] = df.apply(add_snp_number, axis=1)\n",
      "df['snp_index'] = df.apply(add_snp_index, axis=1)"
     ],
     "language": "python",
     "metadata": {},
     "outputs": [],
     "prompt_number": ""
    },
    {
     "cell_type": "code",
     "collapsed": false,
     "input": [
      "def add_snp_full_name(row):\n",
      "    contig = \"_\".join(row.contig.split(\"_\")[0:2])\n",
      "    return \"%s_%s-%d\" % (contig, row.snp_name, row.pos)\n",
      "df['snp_full_name'] = df.apply(add_snp_full_name, axis=1)"
     ],
     "language": "python",
     "metadata": {},
     "outputs": [],
     "prompt_number": ""
    },
    {
     "cell_type": "code",
     "collapsed": false,
     "input": [
      "df.to_csv(\"snp_names.csv\", sep=\"\\t\", index=False)"
     ],
     "language": "python",
     "metadata": {},
     "outputs": [],
     "prompt_number": ""
    },
    {
     "cell_type": "code",
     "collapsed": false,
     "input": [
      "FileLink(\"snp_names.csv\")"
     ],
     "language": "python",
     "metadata": {},
     "outputs": [],
     "prompt_number": ""
    },
    {
     "cell_type": "code",
     "collapsed": false,
     "input": [],
     "language": "python",
     "metadata": {},
     "outputs": []
    }
   ],
   "metadata": {}
  }
 ]
}